{
  "nbformat": 4,
  "nbformat_minor": 0,
  "metadata": {
    "colab": {
      "provenance": []
    },
    "kernelspec": {
      "name": "python3",
      "display_name": "Python 3"
    },
    "language_info": {
      "name": "python"
    }
  },
  "cells": [
    {
      "cell_type": "code",
      "execution_count": 1,
      "metadata": {
        "colab": {
          "base_uri": "https://localhost:8080/"
        },
        "id": "AHXScrF6kQAJ",
        "outputId": "2c7f8ef6-1f28-473a-ec50-a560e0191c0b"
      },
      "outputs": [
        {
          "output_type": "stream",
          "name": "stdout",
          "text": [
            "Mounted at /content/drive\n"
          ]
        }
      ],
      "source": [
        "# mount drive\n",
        "from google.colab import drive\n",
        "drive.mount('/content/drive')"
      ]
    },
    {
      "cell_type": "markdown",
      "source": [
        "### **Data Reading**"
      ],
      "metadata": {
        "id": "vXFXVMa2d838"
      }
    },
    {
      "cell_type": "code",
      "source": [
        "import os\n",
        "\n",
        "GOOGLE_DRIVE_PATH_AFTER_MYDRIVE = '/content/drive/MyDrive/Fiverr/FaceDetectionSimpleMLP/template/CW_Folder_UG' \n",
        "GOOGLE_DRIVE_PATH = os.path.join('/content/drive/MyDrive', GOOGLE_DRIVE_PATH_AFTER_MYDRIVE)\n",
        "print(os.listdir(GOOGLE_DRIVE_PATH))"
      ],
      "metadata": {
        "colab": {
          "base_uri": "https://localhost:8080/"
        },
        "id": "1hNwqeXqkiz-",
        "outputId": "24e4eb73-d8d8-4edd-8700-3071e084ebe0"
      },
      "execution_count": 2,
      "outputs": [
        {
          "output_type": "stream",
          "name": "stdout",
          "text": [
            "['Code', 'CW_Dataset']\n"
          ]
        }
      ]
    },
    {
      "cell_type": "code",
      "source": [
        "# Identify path to zipped dataset\n",
        "zip_path = os.path.join(GOOGLE_DRIVE_PATH, 'CW_Dataset/CV2023_CW_Dataset.zip')\n",
        "\n",
        "# Copy it to Colab\n",
        "!cp '{zip_path}' .\n",
        "\n",
        "# Unzip it\n",
        "!yes|unzip -q CV2023_CW_Dataset.zip\n",
        "\n",
        "# Delete zipped version from Colab (not from Drive)\n",
        "!rm CV2023_CW_Dataset.zip"
      ],
      "metadata": {
        "id": "qV0GNYtTk0kv"
      },
      "execution_count": 3,
      "outputs": []
    },
    {
      "cell_type": "code",
      "source": [
        "# loading files taken from https://stackoverflow.com/questions/273192/how-can-i-safely-create-a-directory-possibly-including-intermediate-directories\n",
        "from pathlib import Path\n",
        "import shutil\n",
        "import os\n",
        "\n",
        "def dataFolder(trainImagePath, testImagePath):\n",
        "  Path(\"./Data\").mkdir(parents=True, exist_ok=True)\n",
        "  Path(\"./Data/train\").mkdir(parents=True, exist_ok=True)\n",
        "  Path(\"./Data/test\").mkdir(parents=True, exist_ok=True)\n",
        "\n",
        "  # Creating folders for all labels (0-not wearing mask, 1-wearing mask properly, 2- wearing mask inproperly)\n",
        "  for n in range(3):\n",
        "    Path(f\"./Data/train/{n}\").mkdir(parents=True, exist_ok=True)\n",
        "    Path(f\"./Data/test/{n}\").mkdir(parents=True, exist_ok=True)\n",
        "\n",
        "  # Initialisng train and test path\n",
        "  trainPath = './Data/train'\n",
        "  testPath = './Data/test'\n",
        "\n",
        " # Reading the text file names and the number within the text file in train folder to match with the name of the image\n",
        "  file_names = [file for file in os.listdir(trainImagePath) if file.endswith('.jpeg')]\n",
        "  print(file_names)\n",
        "  label_files = os.listdir('./train/labels')\n",
        "  parsed_data = {x.removesuffix(\".txt\") + \".jpeg\":open('./train/labels/' + x, \"r\").read().strip() for x in label_files}\n",
        "  # Putting the images into assigned folders for train folder\n",
        "  for file in file_names:\n",
        "    shutil.copy(f\"{trainImagePath}/{file}\", f\"{trainPath}/{parsed_data[file.replace('_aligned', '')]}/{file}\")\n",
        "\n",
        " # Reading the text file names and the number within the text file in test folder to match with the name of the image\n",
        "  file_names = [file for file in os.listdir(testImagePath) if file.endswith('.jpeg')]\n",
        "  label_files = os.listdir('./test/labels')\n",
        "  parsed_data = {x.removesuffix(\".txt\") + \".jpeg\":open('./test/labels/' + x, \"r\").read().strip() for x in label_files} \n",
        "  # Putting the images into assigned folders for test folder\n",
        "  for file in file_names:\n",
        "    shutil.copy(f\"{testImagePath}/{file}\", f\"{testPath}/{parsed_data[file.replace('_aligned', '')]}/{file}\")"
      ],
      "metadata": {
        "id": "ZhVWoe8llJjq"
      },
      "execution_count": 4,
      "outputs": []
    },
    {
      "cell_type": "code",
      "source": [
        "# Loading the folders\n",
        "dataFolder('./train/images', './test/images')"
      ],
      "metadata": {
        "colab": {
          "base_uri": "https://localhost:8080/"
        },
        "id": "MHnjO_8ym1C9",
        "outputId": "9b5b2954-76f9-4ae4-c298-08bb27b0c5d8"
      },
      "execution_count": 5,
      "outputs": [
        {
          "output_type": "stream",
          "name": "stdout",
          "text": [
            "['image_0195.jpeg', 'image_0521.jpeg', 'image_1237.jpeg', 'image_0911.jpeg', 'image_0078.jpeg', 'image_2248.jpeg', 'image_0380.jpeg', 'image_1615.jpeg', 'image_1619.jpeg', 'image_0556.jpeg', 'image_0066.jpeg', 'image_1163.jpeg', 'image_0902.jpeg', 'image_0592.jpeg', 'image_1570.jpeg', 'image_1667.jpeg', 'image_0745.jpeg', 'image_1489.jpeg', 'image_0204.jpeg', 'image_1913.jpeg', 'image_1079.jpeg', 'image_1446.jpeg', 'image_0719.jpeg', 'image_2292.jpeg', 'image_1475.jpeg', 'image_1253.jpeg', 'image_1248.jpeg', 'image_0179.jpeg', 'image_0081.jpeg', 'image_0185.jpeg', 'image_2362.jpeg', 'image_1617.jpeg', 'image_1708.jpeg', 'image_1447.jpeg', 'image_1766.jpeg', 'image_1438.jpeg', 'image_2180.jpeg', 'image_1604.jpeg', 'image_0435.jpeg', 'image_2266.jpeg', 'image_0677.jpeg', 'image_0202.jpeg', 'image_0082.jpeg', 'image_0499.jpeg', 'image_0434.jpeg', 'image_0975.jpeg', 'image_0725.jpeg', 'image_0016.jpeg', 'image_1670.jpeg', 'image_1121.jpeg', 'image_0824.jpeg', 'image_1172.jpeg', 'image_2112.jpeg', 'image_0752.jpeg', 'image_0620.jpeg', 'image_0446.jpeg', 'image_2116.jpeg', 'image_0922.jpeg', 'image_2034.jpeg', 'image_0569.jpeg', 'image_0277.jpeg', 'image_0816.jpeg', 'image_1853.jpeg', 'image_1963.jpeg', 'image_1687.jpeg', 'image_0217.jpeg', 'image_1444.jpeg', 'image_0374.jpeg', 'image_0631.jpeg', 'image_2278.jpeg', 'image_1831.jpeg', 'image_1385.jpeg', 'image_0136.jpeg', 'image_0877.jpeg', 'image_0983.jpeg', 'image_2187.jpeg', 'image_1268.jpeg', 'image_1380.jpeg', 'image_1431.jpeg', 'image_2326.jpeg', 'image_1354.jpeg', 'image_1142.jpeg', 'image_1487.jpeg', 'image_1122.jpeg', 'image_1516.jpeg', 'image_0561.jpeg', 'image_0367.jpeg', 'image_1194.jpeg', 'image_0381.jpeg', 'image_1119.jpeg', 'image_1273.jpeg', 'image_0581.jpeg', 'image_1754.jpeg', 'image_0034.jpeg', 'image_1590.jpeg', 'image_1729.jpeg', 'image_2353.jpeg', 'image_0152.jpeg', 'image_1230.jpeg', 'image_1138.jpeg', 'image_1326.jpeg', 'image_0575.jpeg', 'image_1466.jpeg', 'image_2354.jpeg', 'image_0617.jpeg', 'image_0518.jpeg', 'image_1644.jpeg', 'image_0272.jpeg', 'image_0959.jpeg', 'image_0693.jpeg', 'image_0108.jpeg', 'image_1255.jpeg', 'image_0892.jpeg', 'image_1746.jpeg', 'image_0977.jpeg', 'image_0469.jpeg', 'image_0910.jpeg', 'image_2217.jpeg', 'image_0937.jpeg', 'image_0485.jpeg', 'image_1801.jpeg', 'image_0700.jpeg', 'image_2014.jpeg', 'image_1383.jpeg', 'image_2256.jpeg', 'image_2095.jpeg', 'image_0545.jpeg', 'image_0496.jpeg', 'image_2241.jpeg', 'image_1743.jpeg', 'image_1692.jpeg', 'image_1462.jpeg', 'image_0010.jpeg', 'image_2233.jpeg', 'image_1816.jpeg', 'image_1048.jpeg', 'image_1050.jpeg', 'image_0952.jpeg', 'image_1633.jpeg', 'image_1579.jpeg', 'image_0355.jpeg', 'image_0181.jpeg', 'image_0290.jpeg', 'image_1697.jpeg', 'image_0423.jpeg', 'image_0427.jpeg', 'image_0686.jpeg', 'image_1022.jpeg', 'image_1665.jpeg', 'image_0716.jpeg', 'image_2200.jpeg', 'image_0964.jpeg', 'image_0717.jpeg', 'image_0533.jpeg', 'image_2203.jpeg', 'image_2124.jpeg', 'image_0651.jpeg', 'image_0021.jpeg', 'image_0914.jpeg', 'image_0379.jpeg', 'image_0440.jpeg', 'image_2133.jpeg', 'image_0501.jpeg', 'image_0925.jpeg', 'image_0413.jpeg', 'image_2297.jpeg', 'image_1423.jpeg', 'image_1184.jpeg', 'image_1130.jpeg', 'image_0012.jpeg', 'image_0520.jpeg', 'image_1600.jpeg', 'image_1200.jpeg', 'image_0105.jpeg', 'image_1829.jpeg', 'image_0334.jpeg', 'image_1945.jpeg', 'image_1013.jpeg', 'image_0630.jpeg', 'image_0785.jpeg', 'image_2389.jpeg', 'image_1719.jpeg', 'image_1042.jpeg', 'image_2335.jpeg', 'image_0573.jpeg', 'image_1817.jpeg', 'image_1426.jpeg', 'image_1848.jpeg', 'image_2277.jpeg', 'image_1792.jpeg', 'image_0672.jpeg', 'image_2383.jpeg', 'image_1123.jpeg', 'image_2079.jpeg', 'image_2140.jpeg', 'image_2361.jpeg', 'image_0252.jpeg', 'image_2040.jpeg', 'image_0011.jpeg', 'image_0939.jpeg', 'image_1694.jpeg', 'image_1567.jpeg', 'image_1924.jpeg', 'image_1141.jpeg', 'image_1392.jpeg', 'image_1896.jpeg', 'image_0995.jpeg', 'image_1879.jpeg', 'image_1716.jpeg', 'image_2358.jpeg', 'image_0303.jpeg', 'image_0558.jpeg', 'image_0779.jpeg', 'image_0287.jpeg', 'image_1232.jpeg', 'image_1691.jpeg', 'image_1106.jpeg', 'image_1206.jpeg', 'image_1779.jpeg', 'image_2031.jpeg', 'image_1405.jpeg', 'image_1033.jpeg', 'image_1161.jpeg', 'image_2175.jpeg', 'image_0993.jpeg', 'image_0613.jpeg', 'image_0128.jpeg', 'image_1709.jpeg', 'image_1086.jpeg', 'image_0935.jpeg', 'image_0701.jpeg', 'image_1569.jpeg', 'image_1270.jpeg', 'image_1452.jpeg', 'image_1490.jpeg', 'image_2009.jpeg', 'image_0748.jpeg', 'image_2174.jpeg', 'image_1735.jpeg', 'image_1723.jpeg', 'image_0668.jpeg', 'image_1315.jpeg', 'image_0690.jpeg', 'image_2201.jpeg', 'image_1606.jpeg', 'image_1731.jpeg', 'image_0048.jpeg', 'image_0268.jpeg', 'image_2018.jpeg', 'image_0923.jpeg', 'image_1744.jpeg', 'image_0749.jpeg', 'image_1374.jpeg', 'image_1338.jpeg', 'image_0522.jpeg', 'image_0791.jpeg', 'image_0315.jpeg', 'image_1309.jpeg', 'image_2230.jpeg', 'image_0979.jpeg', 'image_0820.jpeg', 'image_0755.jpeg', 'image_0960.jpeg', 'image_1765.jpeg', 'image_1409.jpeg', 'image_2099.jpeg', 'image_2075.jpeg', 'image_0229.jpeg', 'image_0645.jpeg', 'image_2087.jpeg', 'image_1177.jpeg', 'image_1674.jpeg', 'image_0329.jpeg', 'image_0559.jpeg', 'image_1369.jpeg', 'image_1356.jpeg', 'image_0637.jpeg', 'image_0843.jpeg', 'image_0071.jpeg', 'image_0548.jpeg', 'image_0754.jpeg', 'image_0059.jpeg', 'image_1114.jpeg', 'image_2126.jpeg', 'image_0782.jpeg', 'image_0643.jpeg', 'image_2384.jpeg', 'image_0488.jpeg', 'image_0431.jpeg', 'image_2145.jpeg', 'image_0900.jpeg', 'image_1111.jpeg', 'image_1168.jpeg', 'image_0244.jpeg', 'image_0153.jpeg', 'image_1730.jpeg', 'image_2125.jpeg', 'image_1017.jpeg', 'image_0274.jpeg', 'image_1982.jpeg', 'image_1597.jpeg', 'image_1669.jpeg', 'image_1389.jpeg', 'image_0097.jpeg', 'image_1837.jpeg', 'image_2158.jpeg', 'image_0324.jpeg', 'image_1732.jpeg', 'image_2118.jpeg', 'image_0747.jpeg', 'image_0470.jpeg', 'image_1666.jpeg', 'image_0954.jpeg', 'image_1451.jpeg', 'image_2070.jpeg', 'image_1778.jpeg', 'image_2234.jpeg', 'image_1715.jpeg', 'image_1144.jpeg', 'image_0641.jpeg', 'image_2129.jpeg', 'image_1178.jpeg', 'image_0099.jpeg', 'image_2255.jpeg', 'image_1649.jpeg', 'image_1740.jpeg', 'image_0288.jpeg', 'image_0976.jpeg', 'image_1763.jpeg', 'image_2000.jpeg', 'image_2190.jpeg', 'image_2339.jpeg', 'image_1571.jpeg', 'image_2392.jpeg', 'image_1105.jpeg', 'image_0636.jpeg', 'image_1076.jpeg', 'image_0565.jpeg', 'image_2265.jpeg', 'image_0387.jpeg', 'image_0473.jpeg', 'image_0221.jpeg', 'image_2369.jpeg', 'image_0495.jpeg', 'image_0069.jpeg', 'image_2056.jpeg', 'image_2210.jpeg', 'image_1854.jpeg', 'image_1055.jpeg', 'image_0394.jpeg', 'image_2208.jpeg', 'image_0006.jpeg', 'image_1092.jpeg', 'image_1291.jpeg', 'image_0449.jpeg', 'image_1656.jpeg', 'image_1135.jpeg', 'image_1690.jpeg', 'image_0392.jpeg', 'image_2365.jpeg', 'image_0378.jpeg', 'image_0625.jpeg', 'image_0198.jpeg', 'image_0486.jpeg', 'image_0584.jpeg', 'image_1793.jpeg', 'image_1485.jpeg', 'image_0654.jpeg', 'image_1860.jpeg', 'image_0767.jpeg', 'image_2289.jpeg', 'image_0580.jpeg', 'image_0056.jpeg', 'image_0250.jpeg', 'image_0760.jpeg', 'image_0222.jpeg', 'image_0872.jpeg', 'image_1190.jpeg', 'image_0829.jpeg', 'image_1453.jpeg', 'image_1640.jpeg', 'image_1624.jpeg', 'image_0729.jpeg', 'image_0854.jpeg', 'image_0741.jpeg', 'image_1201.jpeg', 'image_0304.jpeg', 'image_1827.jpeg', 'image_2306.jpeg', 'image_2387.jpeg', 'image_0523.jpeg', 'image_2111.jpeg', 'image_1348.jpeg', 'image_0541.jpeg', 'image_1441.jpeg', 'image_0036.jpeg', 'image_0151.jpeg', 'image_0803.jpeg', 'image_0489.jpeg', 'image_0403.jpeg', 'image_1753.jpeg', 'image_1506.jpeg', 'image_1110.jpeg', 'image_2094.jpeg', 'image_2061.jpeg', 'image_1307.jpeg', 'image_0873.jpeg', 'image_0740.jpeg', 'image_1254.jpeg', 'image_2213.jpeg', 'image_0554.jpeg', 'image_1651.jpeg', 'image_1492.jpeg', 'image_2333.jpeg', 'image_1786.jpeg', 'image_0744.jpeg', 'image_0026.jpeg', 'image_0912.jpeg', 'image_1181.jpeg', 'image_0129.jpeg', 'image_0215.jpeg', 'image_1043.jpeg', 'image_2350.jpeg', 'image_1681.jpeg', 'image_1981.jpeg', 'image_2291.jpeg', 'image_1501.jpeg', 'image_1613.jpeg', 'image_0177.jpeg', 'image_2331.jpeg', 'image_1284.jpeg', 'image_1614.jpeg', 'image_0085.jpeg', 'image_1550.jpeg', 'image_0961.jpeg', 'image_1518.jpeg', 'image_0238.jpeg', 'image_0345.jpeg', 'image_0450.jpeg', 'image_0965.jpeg', 'image_1596.jpeg', 'image_0990.jpeg', 'image_1905.jpeg', 'image_2086.jpeg', 'image_0045.jpeg', 'image_2375.jpeg', 'image_0346.jpeg', 'image_0283.jpeg', 'image_0166.jpeg', 'image_0536.jpeg', 'image_1895.jpeg', 'image_0175.jpeg', 'image_2267.jpeg', 'image_1478.jpeg', 'image_0810.jpeg', 'image_2360.jpeg', 'image_1250.jpeg', 'image_1193.jpeg', 'image_1559.jpeg', 'image_1524.jpeg', 'image_0524.jpeg', 'image_0928.jpeg', 'image_1456.jpeg', 'image_0949.jpeg', 'image_0884.jpeg', 'image_2059.jpeg', 'image_0708.jpeg', 'image_2287.jpeg', 'image_2338.jpeg', 'image_2295.jpeg', 'image_0439.jpeg', 'image_1953.jpeg', 'image_2271.jpeg', 'image_0921.jpeg', 'image_1902.jpeg', 'image_0840.jpeg', 'image_1210.jpeg', 'image_0542.jpeg', 'image_2346.jpeg', 'image_1872.jpeg', 'image_0766.jpeg', 'image_0881.jpeg', 'image_0251.jpeg', 'image_1295.jpeg', 'image_1780.jpeg', 'image_1668.jpeg', 'image_0567.jpeg', 'image_2084.jpeg', 'image_1401.jpeg', 'image_0072.jpeg', 'image_2310.jpeg', 'image_1275.jpeg', 'image_1345.jpeg', 'image_0894.jpeg', 'image_2020.jpeg', 'image_0208.jpeg', 'image_0903.jpeg', 'image_0944.jpeg', 'image_0341.jpeg', 'image_1005.jpeg', 'image_0907.jpeg', 'image_0956.jpeg', 'image_1825.jpeg', 'image_0094.jpeg', 'image_0605.jpeg', 'image_0798.jpeg', 'image_1739.jpeg', 'image_0452.jpeg', 'image_1565.jpeg', 'image_1930.jpeg', 'image_1558.jpeg', 'image_0589.jpeg', 'image_1187.jpeg', 'image_0692.jpeg', 'image_1893.jpeg', 'image_0770.jpeg', 'image_0909.jpeg', 'image_2275.jpeg', 'image_0312.jpeg', 'image_1806.jpeg', 'image_0503.jpeg', 'image_2239.jpeg', 'image_1707.jpeg', 'image_2073.jpeg', 'image_1538.jpeg', 'image_0466.jpeg', 'image_1564.jpeg', 'image_0159.jpeg', 'image_1414.jpeg', 'image_0343.jpeg', 'image_1768.jpeg', 'image_0526.jpeg', 'image_1049.jpeg', 'image_0193.jpeg', 'image_1404.jpeg', 'image_1593.jpeg', 'image_1803.jpeg', 'image_0871.jpeg', 'image_1008.jpeg', 'image_0424.jpeg', 'image_0475.jpeg', 'image_0280.jpeg', 'image_0586.jpeg', 'image_0618.jpeg', 'image_1164.jpeg', 'image_2028.jpeg', 'image_1150.jpeg', 'image_2381.jpeg', 'image_0428.jpeg', 'image_1859.jpeg', 'image_0331.jpeg', 'image_2083.jpeg', 'image_2202.jpeg', 'image_0462.jpeg', 'image_2166.jpeg', 'image_0969.jpeg', 'image_1417.jpeg', 'image_1162.jpeg', 'image_0762.jpeg', 'image_1610.jpeg', 'image_2363.jpeg', 'image_1776.jpeg', 'image_1218.jpeg', 'image_1220.jpeg', 'image_2391.jpeg', 'image_2188.jpeg', 'image_0968.jpeg', 'image_0020.jpeg', 'image_2060.jpeg', 'image_0310.jpeg', 'image_1920.jpeg', 'image_1769.jpeg', 'image_0534.jpeg', 'image_1140.jpeg', 'image_0950.jpeg', 'image_0357.jpeg', 'image_1791.jpeg', 'image_2162.jpeg', 'image_1366.jpeg', 'image_0460.jpeg', 'image_1787.jpeg', 'image_1167.jpeg', 'image_0398.jpeg', 'image_2055.jpeg', 'image_0271.jpeg', 'image_1497.jpeg', 'image_2058.jpeg', 'image_0885.jpeg', 'image_2254.jpeg', 'image_0249.jpeg', 'image_1605.jpeg', 'image_2047.jpeg', 'image_2026.jpeg', 'image_1443.jpeg', 'image_0458.jpeg', 'image_0904.jpeg', 'image_0192.jpeg', 'image_0039.jpeg', 'image_2249.jpeg', 'image_0237.jpeg', 'image_0835.jpeg', 'image_0064.jpeg', 'image_1297.jpeg', 'image_1576.jpeg', 'image_0743.jpeg', 'image_1004.jpeg', 'image_1889.jpeg', 'image_1676.jpeg', 'image_0547.jpeg', 'image_0173.jpeg', 'image_0278.jpeg', 'image_1464.jpeg', 'image_1146.jpeg', 'image_1375.jpeg', 'image_2380.jpeg', 'image_1925.jpeg', 'image_0525.jpeg', 'image_0695.jpeg', 'image_0266.jpeg', 'image_1660.jpeg', 'image_0062.jpeg', 'image_1335.jpeg', 'image_0063.jpeg', 'image_2131.jpeg', 'image_0405.jpeg', 'image_1648.jpeg', 'image_1296.jpeg', 'image_0531.jpeg', 'image_2329.jpeg', 'image_1352.jpeg', 'image_1170.jpeg', 'image_0480.jpeg', 'image_0685.jpeg', 'image_1603.jpeg', 'image_1717.jpeg', 'image_2355.jpeg', 'image_1298.jpeg', 'image_0858.jpeg', 'image_0557.jpeg', 'image_1432.jpeg', 'image_1279.jpeg', 'image_1622.jpeg', 'image_2052.jpeg', 'image_1699.jpeg', 'image_1035.jpeg', 'image_1056.jpeg', 'image_1499.jpeg', 'image_2348.jpeg', 'image_2303.jpeg', 'image_1364.jpeg', 'image_1823.jpeg', 'image_0484.jpeg', 'image_0971.jpeg', 'image_1468.jpeg', 'image_1302.jpeg', 'image_1989.jpeg', 'image_0982.jpeg', 'image_2066.jpeg', 'image_1959.jpeg', 'image_0087.jpeg', 'image_0111.jpeg', 'image_0505.jpeg', 'image_1445.jpeg', 'image_0664.jpeg', 'image_0707.jpeg', 'image_1772.jpeg', 'image_0363.jpeg', 'image_1584.jpeg', 'image_2247.jpeg', 'image_1415.jpeg', 'image_1241.jpeg', 'image_1851.jpeg', 'image_2345.jpeg', 'image_2298.jpeg', 'image_2228.jpeg', 'image_0662.jpeg', 'image_2104.jpeg', 'image_0385.jpeg', 'image_1156.jpeg', 'image_0817.jpeg', 'image_1767.jpeg', 'image_0187.jpeg', 'image_1010.jpeg', 'image_0836.jpeg', 'image_0851.jpeg', 'image_2245.jpeg', 'image_1223.jpeg', 'image_1429.jpeg', 'image_1557.jpeg', 'image_0493.jpeg', 'image_2229.jpeg', 'image_1701.jpeg', 'image_0134.jpeg', 'image_0145.jpeg', 'image_1505.jpeg', 'image_0390.jpeg', 'image_0121.jpeg', 'image_0442.jpeg', 'image_0845.jpeg', 'image_1278.jpeg', 'image_1522.jpeg', 'image_0472.jpeg', 'image_1713.jpeg', 'image_0088.jpeg', 'image_0863.jpeg', 'image_0663.jpeg', 'image_1323.jpeg', 'image_2089.jpeg', 'image_1627.jpeg', 'image_1638.jpeg', 'image_1508.jpeg', 'image_2344.jpeg', 'image_1581.jpeg', 'image_1774.jpeg', 'image_2285.jpeg', 'image_2385.jpeg', 'image_2141.jpeg', 'image_1329.jpeg', 'image_1217.jpeg', 'image_1561.jpeg', 'image_1103.jpeg', 'image_0491.jpeg', 'image_0148.jpeg', 'image_1954.jpeg', 'image_0855.jpeg', 'image_0433.jpeg', 'image_0471.jpeg', 'image_1226.jpeg', 'image_0214.jpeg', 'image_1045.jpeg', 'image_1737.jpeg', 'image_1240.jpeg', 'image_0936.jpeg', 'image_0218.jpeg', 'image_0184.jpeg', 'image_1580.jpeg', 'image_0323.jpeg', 'image_1773.jpeg', 'image_1532.jpeg', 'image_1630.jpeg', 'image_1165.jpeg', 'image_1572.jpeg', 'image_1197.jpeg', 'image_2236.jpeg', 'image_1100.jpeg', 'image_1132.jpeg', 'image_2296.jpeg', 'image_0316.jpeg', 'image_1125.jpeg', 'image_0606.jpeg', 'image_0174.jpeg', 'image_0409.jpeg', 'image_0778.jpeg', 'image_0658.jpeg', 'image_0506.jpeg', 'image_1834.jpeg', 'image_1880.jpeg', 'image_2071.jpeg', 'image_1486.jpeg', 'image_1528.jpeg', 'image_2113.jpeg', 'image_0014.jpeg', 'image_0146.jpeg', 'image_0013.jpeg', 'image_0067.jpeg', 'image_1784.jpeg', 'image_1594.jpeg', 'image_0448.jpeg', 'image_2216.jpeg', 'image_2005.jpeg', 'image_0828.jpeg', 'image_1334.jpeg', 'image_2382.jpeg', 'image_0806.jpeg', 'image_1511.jpeg', 'image_1976.jpeg', 'image_1988.jpeg', 'image_0333.jpeg', 'image_0689.jpeg', 'image_1513.jpeg', 'image_1856.jpeg', 'image_0500.jpeg', 'image_1934.jpeg', 'image_0337.jpeg', 'image_0819.jpeg', 'image_1420.jpeg', 'image_1225.jpeg', 'image_0305.jpeg', 'image_2378.jpeg', 'image_1814.jpeg', 'image_2221.jpeg', 'image_1196.jpeg', 'image_0933.jpeg', 'image_1589.jpeg', 'image_0790.jpeg', 'image_0510.jpeg', 'image_1012.jpeg', 'image_0049.jpeg', 'image_0451.jpeg', 'image_2328.jpeg', 'image_2081.jpeg', 'image_1995.jpeg', 'image_1180.jpeg', 'image_0035.jpeg', 'image_1781.jpeg', 'image_1098.jpeg', 'image_0805.jpeg', 'image_1832.jpeg', 'image_2003.jpeg', 'image_0624.jpeg', 'image_0657.jpeg', 'image_1527.jpeg', 'image_0282.jpeg', 'image_2211.jpeg', 'image_0022.jpeg', 'image_2260.jpeg', 'image_1061.jpeg', 'image_0972.jpeg', 'image_1757.jpeg', 'image_1955.jpeg', 'image_1662.jpeg', 'image_1898.jpeg', 'image_2185.jpeg', 'image_1267.jpeg', 'image_0666.jpeg', 'image_1189.jpeg', 'image_1308.jpeg', 'image_0359.jpeg', 'image_0896.jpeg', 'image_0669.jpeg', 'image_2261.jpeg', 'image_1325.jpeg', 'image_2151.jpeg', 'image_0797.jpeg', 'image_1958.jpeg', 'image_1126.jpeg', 'image_1992.jpeg', 'image_2224.jpeg', 'image_1821.jpeg', 'image_1884.jpeg', 'image_0809.jpeg', 'image_1526.jpeg', 'image_2134.jpeg', 'image_0728.jpeg', 'image_0096.jpeg', 'image_0432.jpeg', 'image_1969.jpeg', 'image_2035.jpeg', 'image_2347.jpeg', 'image_1545.jpeg', 'image_2250.jpeg', 'image_1878.jpeg', 'image_0436.jpeg', 'image_1679.jpeg', 'image_0674.jpeg', 'image_1238.jpeg', 'image_0313.jpeg', 'image_1306.jpeg', 'image_1500.jpeg', 'image_1682.jpeg', 'image_2368.jpeg', 'image_2270.jpeg', 'image_2119.jpeg', 'image_0019.jpeg', 'image_0041.jpeg', 'image_2186.jpeg', 'image_0281.jpeg', 'image_0464.jpeg', 'image_1019.jpeg', 'image_0678.jpeg', 'image_0352.jpeg', 'image_1208.jpeg', 'image_1961.jpeg', 'image_2001.jpeg', 'image_1635.jpeg', 'image_0601.jpeg', 'image_0127.jpeg', 'image_1826.jpeg', 'image_1927.jpeg', 'image_2274.jpeg', 'image_0262.jpeg', 'image_0886.jpeg', 'image_1448.jpeg', 'image_1588.jpeg', 'image_0171.jpeg', 'image_1221.jpeg', 'image_1521.jpeg', 'image_0076.jpeg', 'image_1418.jpeg', 'image_0445.jpeg', 'image_2359.jpeg', 'image_0257.jpeg', 'image_1689.jpeg', 'image_1686.jpeg', 'image_1811.jpeg', 'image_1305.jpeg', 'image_0123.jpeg', 'image_1758.jpeg', 'image_0974.jpeg', 'image_0827.jpeg', 'image_2301.jpeg', 'image_0808.jpeg', 'image_1912.jpeg', 'image_1833.jpeg', 'image_2259.jpeg', 'image_1909.jpeg', 'image_2227.jpeg', 'image_1616.jpeg', 'image_1541.jpeg', 'image_0349.jpeg', 'image_2039.jpeg', 'image_0328.jpeg', 'image_1634.jpeg', 'image_0632.jpeg', 'image_1257.jpeg', 'image_2204.jpeg', 'image_0132.jpeg', 'image_2154.jpeg', 'image_1264.jpeg', 'image_1097.jpeg', 'image_1317.jpeg', 'image_1939.jpeg', 'image_1018.jpeg', 'image_0399.jpeg', 'image_0090.jpeg', 'image_1015.jpeg', 'image_2022.jpeg', 'image_1585.jpeg', 'image_2220.jpeg', 'image_2225.jpeg', 'image_1815.jpeg', 'image_2386.jpeg', 'image_0030.jpeg', 'image_1771.jpeg', 'image_0709.jpeg', 'image_1038.jpeg', 'image_0691.jpeg', 'image_0906.jpeg', 'image_1812.jpeg', 'image_1261.jpeg', 'image_1259.jpeg', 'image_0538.jpeg', 'image_0688.jpeg', 'image_1134.jpeg', 'image_0934.jpeg', 'image_1678.jpeg', 'image_2062.jpeg', 'image_1288.jpeg', 'image_0216.jpeg', 'image_1820.jpeg', 'image_0844.jpeg', 'image_0029.jpeg', 'image_0905.jpeg', 'image_0340.jpeg', 'image_0126.jpeg', 'image_0325.jpeg', 'image_1836.jpeg', 'image_0318.jpeg', 'image_1102.jpeg', 'image_2065.jpeg', 'image_1203.jpeg', 'image_0083.jpeg', 'image_0783.jpeg', 'image_1591.jpeg', 'image_1116.jpeg', 'image_2080.jpeg', 'image_2197.jpeg', 'image_1950.jpeg', 'image_0149.jpeg', 'image_0023.jpeg', 'image_0634.jpeg', 'image_1671.jpeg', 'image_1327.jpeg', 'image_0509.jpeg', 'image_1727.jpeg', 'image_0309.jpeg', 'image_2240.jpeg', 'image_2337.jpeg', 'image_1800.jpeg', 'image_1394.jpeg', 'image_0004.jpeg', 'image_1509.jpeg', 'image_0582.jpeg', 'image_0788.jpeg', 'image_0366.jpeg', 'image_2183.jpeg', 'image_0512.jpeg', 'image_1087.jpeg', 'image_1104.jpeg', 'image_1494.jpeg', 'image_1377.jpeg', 'image_1728.jpeg', 'image_0186.jpeg', 'image_0596.jpeg', 'image_2246.jpeg', 'image_2008.jpeg', 'image_1647.jpeg', 'image_1947.jpeg', 'image_1465.jpeg', 'image_2340.jpeg', 'image_1410.jpeg', 'image_1560.jpeg', 'image_1841.jpeg', 'image_0393.jpeg', 'image_0241.jpeg', 'image_0704.jpeg', 'image_0802.jpeg', 'image_1216.jpeg', 'image_0194.jpeg', 'image_1479.jpeg', 'image_2334.jpeg', 'image_1748.jpeg', 'image_0369.jpeg', 'image_0714.jpeg', 'image_0068.jpeg', 'image_1212.jpeg', 'image_1586.jpeg', 'image_1548.jpeg', 'image_0838.jpeg', 'image_0794.jpeg', 'image_0661.jpeg', 'image_0795.jpeg', 'image_0256.jpeg', 'image_1657.jpeg', 'image_1014.jpeg', 'image_1654.jpeg', 'image_1568.jpeg', 'image_2192.jpeg', 'image_0199.jpeg', 'image_1946.jpeg', 'image_0579.jpeg', 'image_1023.jpeg', 'image_0594.jpeg', 'image_0206.jpeg', 'image_0188.jpeg', 'image_2041.jpeg', 'image_0698.jpeg', 'image_1675.jpeg', 'image_1449.jpeg', 'image_1391.jpeg', 'image_1798.jpeg', 'image_0577.jpeg', 'image_1173.jpeg', 'image_1358.jpeg', 'image_2122.jpeg', 'image_0265.jpeg', 'image_2357.jpeg', 'image_0929.jpeg', 'image_1936.jpeg', 'image_2315.jpeg', 'image_1652.jpeg', 'image_1337.jpeg', 'image_0230.jpeg', 'image_2205.jpeg', 'image_0350.jpeg', 'image_2290.jpeg', 'image_2012.jpeg', 'image_1933.jpeg', 'image_1053.jpeg', 'image_1025.jpeg', 'image_0515.jpeg', 'image_0273.jpeg', 'image_2343.jpeg', 'image_1601.jpeg', 'image_1843.jpeg', 'image_0061.jpeg', 'image_0550.jpeg', 'image_0144.jpeg', 'image_1847.jpeg', 'image_2393.jpeg', 'image_2198.jpeg', 'image_0168.jpeg', 'image_0846.jpeg', 'image_1028.jpeg', 'image_1182.jpeg', 'image_0114.jpeg', 'image_1535.jpeg', 'image_0308.jpeg', 'image_0994.jpeg', 'image_1926.jpeg', 'image_1039.jpeg', 'image_1783.jpeg', 'image_1351.jpeg', 'image_1435.jpeg', 'image_1637.jpeg', 'image_0306.jpeg', 'image_0940.jpeg', 'image_1387.jpeg', 'image_0837.jpeg', 'image_0420.jpeg', 'image_0376.jpeg', 'image_1547.jpeg', 'image_1471.jpeg', 'image_2318.jpeg', 'image_0543.jpeg', 'image_0209.jpeg', 'image_1937.jpeg', 'image_0867.jpeg', 'image_1587.jpeg', 'image_1862.jpeg', 'image_1289.jpeg', 'image_1480.jpeg', 'image_1857.jpeg', 'image_2171.jpeg', 'image_1819.jpeg', 'image_0046.jpeg', 'image_2252.jpeg', 'image_1084.jpeg', 'image_0476.jpeg', 'image_1871.jpeg', 'image_0915.jpeg', 'image_1498.jpeg', 'image_1720.jpeg', 'image_2302.jpeg', 'image_1626.jpeg', 'image_0143.jpeg', 'image_0772.jpeg', 'image_0057.jpeg', 'image_2032.jpeg', 'image_0646.jpeg', 'image_2189.jpeg', 'image_0354.jpeg', 'image_1124.jpeg', 'image_1997.jpeg', 'image_0299.jpeg', 'image_0527.jpeg', 'image_1393.jpeg', 'image_1734.jpeg', 'image_2309.jpeg', 'image_0812.jpeg', 'image_0722.jpeg', 'image_0047.jpeg', 'image_0841.jpeg', 'image_2356.jpeg', 'image_0730.jpeg', 'image_0570.jpeg', 'image_0924.jpeg', 'image_1379.jpeg', 'image_1747.jpeg', 'image_0947.jpeg', 'image_2150.jpeg', 'image_0124.jpeg', 'image_1458.jpeg', 'image_0161.jpeg', 'image_1790.jpeg', 'image_0058.jpeg', 'image_1932.jpeg', 'image_1262.jpeg', 'image_1574.jpeg', 'image_0607.jpeg', 'image_2046.jpeg', 'image_1115.jpeg', 'image_2016.jpeg', 'image_0311.jpeg', 'image_1129.jpeg', 'image_2002.jpeg', 'image_0723.jpeg', 'image_0165.jpeg', 'image_2098.jpeg', 'image_2184.jpeg', 'image_1938.jpeg', 'image_0530.jpeg', 'image_2048.jpeg', 'image_1252.jpeg', 'image_1752.jpeg', 'image_0412.jpeg', 'image_2168.jpeg', 'image_0497.jpeg', 'image_1503.jpeg', 'image_0731.jpeg', 'image_0713.jpeg', 'image_0710.jpeg', 'image_0455.jpeg', 'image_0295.jpeg', 'image_0219.jpeg', 'image_2069.jpeg', 'image_1160.jpeg', 'image_1440.jpeg', 'image_1794.jpeg', 'image_2029.jpeg', 'image_1888.jpeg', 'image_0365.jpeg', 'image_0958.jpeg', 'image_0191.jpeg', 'image_0859.jpeg', 'image_0298.jpeg', 'image_1907.jpeg', 'image_1370.jpeg', 'image_1705.jpeg', 'image_0665.jpeg', 'image_1239.jpeg', 'image_0293.jpeg', 'image_0130.jpeg', 'image_1065.jpeg', 'image_0225.jpeg', 'image_0417.jpeg', 'image_1294.jpeg', 'image_1700.jpeg', 'image_1625.jpeg', 'image_2033.jpeg', 'image_1169.jpeg', 'image_1875.jpeg', 'image_1027.jpeg', 'image_1399.jpeg', 'image_0832.jpeg', 'image_2268.jpeg', 'image_1677.jpeg', 'image_1531.jpeg', 'image_0633.jpeg', 'image_1828.jpeg', 'image_0916.jpeg', 'image_0857.jpeg', 'image_1047.jpeg', 'image_1074.jpeg', 'image_1155.jpeg', 'image_1944.jpeg', 'image_2181.jpeg', 'image_1957.jpeg', 'image_2286.jpeg', 'image_0759.jpeg', 'image_2308.jpeg', 'image_1408.jpeg', 'image_0360.jpeg', 'image_1341.jpeg', 'image_1641.jpeg', 'image_0917.jpeg', 'image_0073.jpeg', 'image_2147.jpeg', 'image_0874.jpeg', 'image_0362.jpeg', 'image_0239.jpeg', 'image_2321.jpeg', 'image_1602.jpeg', 'image_0018.jpeg', 'image_1980.jpeg', 'image_0683.jpeg', 'image_1031.jpeg', 'image_0918.jpeg', 'image_2146.jpeg', 'image_0967.jpeg', 'image_1555.jpeg', 'image_0734.jpeg', 'image_1770.jpeg', 'image_0000.jpeg', 'image_0253.jpeg', 'image_1870.jpeg', 'image_1349.jpeg', 'image_1533.jpeg', 'image_1943.jpeg', 'image_0773.jpeg', 'image_0104.jpeg', 'image_1876.jpeg', 'image_0255.jpeg', 'image_0811.jpeg', 'image_0578.jpeg', 'image_0564.jpeg', 'image_1861.jpeg', 'image_1984.jpeg', 'image_1900.jpeg', 'image_2037.jpeg', 'image_0888.jpeg', 'image_1583.jpeg', 'image_2288.jpeg', 'image_0611.jpeg', 'image_1442.jpeg', 'image_0673.jpeg', 'image_0655.jpeg', 'image_2173.jpeg', 'image_0879.jpeg', 'image_2051.jpeg', 'image_2313.jpeg', 'image_0292.jpeg', 'image_0302.jpeg', 'image_1233.jpeg', 'image_1546.jpeg', 'image_1368.jpeg', 'image_0822.jpeg', 'image_2207.jpeg', 'image_1525.jpeg', 'image_0263.jpeg', 'image_1251.jpeg', 'image_1340.jpeg', 'image_0574.jpeg', 'image_1059.jpeg', 'image_1866.jpeg', 'image_0389.jpeg', 'image_1081.jpeg', 'image_0736.jpeg', 'image_1899.jpeg', 'image_1350.jpeg', 'image_1343.jpeg', 'image_1636.jpeg', 'image_0953.jpeg', 'image_1481.jpeg', 'image_1258.jpeg', 'image_2049.jpeg', 'image_1339.jpeg', 'image_0615.jpeg', 'image_2007.jpeg', 'image_0537.jpeg', 'image_0425.jpeg', 'image_0474.jpeg', 'image_1874.jpeg', 'image_0297.jpeg', 'image_1993.jpeg', 'image_1795.jpeg', 'image_1673.jpeg', 'image_0243.jpeg', 'image_1582.jpeg', 'image_0771.jpeg', 'image_1085.jpeg', 'image_1810.jpeg', 'image_1406.jpeg', 'image_0878.jpeg', 'image_1971.jpeg', 'image_2367.jpeg', 'image_2036.jpeg', 'image_1060.jpeg', 'image_1080.jpeg', 'image_2243.jpeg', 'image_1143.jpeg', 'image_1965.jpeg', 'image_1504.jpeg', 'image_1029.jpeg', 'image_1376.jpeg', 'image_0155.jpeg', 'image_2351.jpeg', 'image_0675.jpeg', 'image_2092.jpeg', 'image_1916.jpeg', 'image_0122.jpeg', 'image_0849.jpeg', 'image_0051.jpeg', 'image_1428.jpeg', 'image_1722.jpeg', 'image_0889.jpeg', 'image_0120.jpeg', 'image_1214.jpeg', 'image_1077.jpeg', 'image_2161.jpeg', 'image_1885.jpeg', 'image_1951.jpeg', 'image_1759.jpeg', 'image_0163.jpeg', 'image_1213.jpeg', 'image_1396.jpeg', 'image_0005.jpeg', 'image_2106.jpeg', 'image_1520.jpeg', 'image_1764.jpeg', 'image_1260.jpeg', 'image_1269.jpeg', 'image_1710.jpeg', 'image_0726.jpeg', 'image_1283.jpeg', 'image_1070.jpeg', 'image_0024.jpeg', 'image_0289.jpeg', 'image_2179.jpeg', 'image_0113.jpeg', 'image_0875.jpeg', 'image_0477.jpeg', 'image_0457.jpeg', 'image_0560.jpeg', 'image_1484.jpeg', 'image_1775.jpeg', 'image_1711.jpeg', 'image_0868.jpeg', 'image_1154.jpeg', 'image_1419.jpeg', 'image_0410.jpeg', 'image_1491.jpeg', 'image_0821.jpeg', 'image_2332.jpeg', 'image_1328.jpeg', 'image_0386.jpeg', 'image_0141.jpeg', 'image_1171.jpeg', 'image_0898.jpeg', 'image_0711.jpeg', 'image_1202.jpeg', 'image_2108.jpeg', 'image_1595.jpeg', 'image_0890.jpeg', 'image_1455.jpeg', 'image_1347.jpeg', 'image_0286.jpeg', 'image_0336.jpeg', 'image_1733.jpeg', 'image_0870.jpeg', 'image_0196.jpeg', 'image_1157.jpeg', 'image_0750.jpeg', 'image_0638.jpeg', 'image_1762.jpeg', 'image_1067.jpeg', 'image_1940.jpeg', 'image_0799.jpeg', 'image_0207.jpeg', 'image_0138.jpeg', 'image_0269.jpeg', 'image_1434.jpeg', 'image_0117.jpeg', 'image_1552.jpeg', 'image_0032.jpeg', 'image_0247.jpeg', 'image_1922.jpeg', 'image_0358.jpeg', 'image_0467.jpeg', 'image_1477.jpeg', 'image_1488.jpeg', 'image_0223.jpeg', 'image_1472.jpeg', 'image_0314.jpeg', 'image_0115.jpeg', 'image_0361.jpeg', 'image_2314.jpeg', 'image_1041.jpeg', 'image_1000.jpeg', 'image_2038.jpeg', 'image_0103.jpeg', 'image_0245.jpeg', 'image_2193.jpeg', 'image_1688.jpeg', 'image_0566.jpeg', 'image_2077.jpeg', 'image_1703.jpeg', 'image_1894.jpeg', 'image_0468.jpeg', 'image_0763.jpeg', 'image_1891.jpeg', 'image_1068.jpeg', 'image_0160.jpeg', 'image_1974.jpeg', 'image_2330.jpeg', 'image_2209.jpeg', 'image_0276.jpeg', 'image_1064.jpeg', 'image_1683.jpeg', 'image_0650.jpeg', 'image_0388.jpeg', 'image_0408.jpeg', 'image_0667.jpeg', 'image_1365.jpeg', 'image_2027.jpeg', 'image_0814.jpeg', 'image_1979.jpeg', 'image_2262.jpeg', 'image_2373.jpeg', 'image_1224.jpeg', 'image_1931.jpeg', 'image_1877.jpeg', 'image_1998.jpeg', 'image_0571.jpeg', 'image_1685.jpeg', 'image_0233.jpeg', 'image_0201.jpeg', 'image_0133.jpeg', 'image_0212.jpeg', 'image_0200.jpeg', 'image_0535.jpeg', 'image_2155.jpeg', 'image_1935.jpeg', 'image_1956.jpeg', 'image_1890.jpeg', 'image_2017.jpeg', 'image_1917.jpeg', 'image_0680.jpeg', 'image_2269.jpeg', 'image_0682.jpeg', 'image_2238.jpeg', 'image_1799.jpeg', 'image_2191.jpeg', 'image_0109.jpeg', 'image_0945.jpeg', 'image_0639.jpeg', 'image_1822.jpeg', 'image_0054.jpeg', 'image_1973.jpeg', 'image_1948.jpeg', 'image_1892.jpeg', 'image_1411.jpeg', 'image_0800.jpeg', 'image_1185.jpeg', 'image_0254.jpeg', 'image_0119.jpeg', 'image_1631.jpeg', 'image_0951.jpeg', 'image_2101.jpeg', 'image_2085.jpeg', 'image_0847.jpeg', 'image_0383.jpeg', 'image_2264.jpeg', 'image_1416.jpeg', 'image_1054.jpeg', 'image_0183.jpeg', 'image_0786.jpeg', 'image_0110.jpeg', 'image_2043.jpeg', 'image_0599.jpeg', 'image_1960.jpeg', 'image_0702.jpeg', 'image_1554.jpeg', 'image_0653.jpeg', 'image_0893.jpeg', 'image_0400.jpeg', 'image_1702.jpeg', 'image_1397.jpeg', 'image_0626.jpeg', 'image_2276.jpeg', 'image_0687.jpeg', 'image_1322.jpeg', 'image_0804.jpeg', 'image_0009.jpeg', 'image_2109.jpeg', 'image_1209.jpeg', 'image_0232.jpeg', 'image_0415.jpeg', 'image_2149.jpeg', 'image_1228.jpeg', 'image_1357.jpeg', 'image_1094.jpeg', 'image_0706.jpeg', 'image_1967.jpeg', 'image_0876.jpeg', 'image_0322.jpeg', 'image_2030.jpeg', 'image_1908.jpeg', 'image_2177.jpeg', 'image_1256.jpeg', 'image_2139.jpeg', 'image_1096.jpeg', 'image_1044.jpeg', 'image_1760.jpeg', 'image_0926.jpeg', 'image_1395.jpeg', 'image_1996.jpeg', 'image_1573.jpeg', 'image_1400.jpeg', 'image_1495.jpeg', 'image_1128.jpeg', 'image_0426.jpeg', 'image_0865.jpeg', 'image_0583.jpeg', 'image_1977.jpeg', 'image_2136.jpeg', 'image_0850.jpeg', 'image_1073.jpeg', 'image_0774.jpeg', 'image_0901.jpeg', 'image_0180.jpeg', 'image_2284.jpeg', 'image_0327.jpeg', 'image_2196.jpeg', 'image_0456.jpeg', 'image_0908.jpeg', 'image_2078.jpeg', 'image_0927.jpeg', 'image_0861.jpeg', 'image_0116.jpeg', 'image_0101.jpeg', 'image_0732.jpeg', 'image_1301.jpeg', 'image_1578.jpeg', 'image_0372.jpeg', 'image_2015.jpeg', 'image_2053.jpeg', 'image_0002.jpeg', 'image_1659.jpeg', 'image_1402.jpeg', 'image_2219.jpeg', 'image_2163.jpeg', 'image_0461.jpeg', 'image_0033.jpeg', 'image_1949.jpeg', 'image_1611.jpeg', 'image_2067.jpeg', 'image_1785.jpeg', 'image_0040.jpeg', 'image_0140.jpeg', 'image_1536.jpeg', 'image_1430.jpeg', 'image_1563.jpeg', 'image_0203.jpeg', 'image_1818.jpeg', 'image_0946.jpeg', 'image_0807.jpeg', 'image_0074.jpeg', 'image_1493.jpeg', 'image_0347.jpeg', 'image_2121.jpeg', 'image_1058.jpeg', 'image_0769.jpeg', 'image_2242.jpeg', 'image_1030.jpeg', 'image_1127.jpeg', 'image_1664.jpeg', 'image_0818.jpeg', 'image_1071.jpeg', 'image_1057.jpeg', 'image_0511.jpeg', 'image_1398.jpeg', 'image_1964.jpeg', 'image_0602.jpeg', 'image_1314.jpeg', 'image_1693.jpeg', 'image_1750.jpeg', 'image_0414.jpeg', 'image_1474.jpeg', 'image_2388.jpeg', 'image_0227.jpeg', 'image_1192.jpeg', 'image_1191.jpeg', 'image_0539.jpeg', 'image_1386.jpeg', 'image_1133.jpeg', 'image_1543.jpeg', 'image_1952.jpeg', 'image_0519.jpeg', 'image_0454.jpeg', 'image_1534.jpeg', 'image_1381.jpeg', 'image_2376.jpeg', 'image_0862.jpeg', 'image_0031.jpeg', 'image_1034.jpeg', 'image_1346.jpeg', 'image_1618.jpeg', 'image_2364.jpeg', 'image_1906.jpeg', 'image_2114.jpeg', 'image_0291.jpeg', 'image_0652.jpeg', 'image_2218.jpeg', 'image_0231.jpeg', 'image_0670.jpeg', 'image_0494.jpeg', 'image_0300.jpeg', 'image_0562.jpeg', 'image_1101.jpeg', 'image_2178.jpeg', 'image_1813.jpeg', 'image_1523.jpeg', 'image_1304.jpeg', 'image_2371.jpeg', 'image_0789.jpeg', 'image_2377.jpeg', 'image_1450.jpeg', 'image_0050.jpeg', 'image_1147.jpeg', 'image_1046.jpeg', 'image_0092.jpeg', 'image_0913.jpeg', 'image_2199.jpeg', 'image_0660.jpeg', 'image_0733.jpeg', 'image_0640.jpeg', 'image_1802.jpeg', 'image_0319.jpeg', 'image_1243.jpeg', 'image_1457.jpeg', 'image_2232.jpeg', 'image_0610.jpeg', 'image_0176.jpeg', 'image_0396.jpeg', 'image_1629.jpeg', 'image_0150.jpeg', 'image_0988.jpeg', 'image_0619.jpeg', 'image_1972.jpeg', 'image_1229.jpeg', 'image_0648.jpeg', 'image_1149.jpeg', 'image_0416.jpeg', 'image_0259.jpeg', 'image_0498.jpeg', 'image_0756.jpeg', 'image_2148.jpeg', 'image_2282.jpeg', 'image_0053.jpeg', 'image_0492.jpeg', 'image_0234.jpeg', 'image_1277.jpeg', 'image_0182.jpeg', 'image_1658.jpeg', 'image_1844.jpeg', 'image_1319.jpeg', 'image_0402.jpeg', 'image_0139.jpeg', 'image_0008.jpeg', 'image_1577.jpeg', 'image_2169.jpeg', 'image_0326.jpeg', 'image_0007.jpeg', 'image_1292.jpeg', 'image_0156.jpeg', 'image_0210.jpeg', 'image_0504.jpeg', 'image_0699.jpeg', 'image_0077.jpeg', 'image_0242.jpeg', 'image_1725.jpeg', 'image_0260.jpeg', 'image_0576.jpeg', 'image_1968.jpeg', 'image_2280.jpeg', 'image_1653.jpeg', 'image_0635.jpeg', 'image_0957.jpeg', 'image_0697.jpeg', 'image_0162.jpeg', 'image_1016.jpeg', 'image_1120.jpeg', 'image_1761.jpeg', 'image_0544.jpeg', 'image_1566.jpeg', 'image_0955.jpeg', 'image_1109.jpeg', 'image_1353.jpeg', 'image_1095.jpeg', 'image_1929.jpeg', 'image_1007.jpeg', 'image_0593.jpeg', 'image_1333.jpeg', 'image_1011.jpeg', 'image_0529.jpeg', 'image_2263.jpeg', 'image_1136.jpeg', 'image_0211.jpeg', 'image_1883.jpeg', 'image_2156.jpeg', 'image_1863.jpeg', 'image_1796.jpeg', 'image_1476.jpeg', 'image_2072.jpeg', 'image_0793.jpeg', 'image_1090.jpeg', 'image_0742.jpeg', 'image_2132.jpeg', 'image_2130.jpeg', 'image_1612.jpeg', 'image_2244.jpeg', 'image_2170.jpeg', 'image_0279.jpeg', 'image_0671.jpeg', 'image_1186.jpeg', 'image_0478.jpeg', 'image_0463.jpeg', 'image_0235.jpeg', 'image_2226.jpeg', 'image_1966.jpeg', 'image_0443.jpeg', 'image_1422.jpeg', 'image_1695.jpeg', 'image_0487.jpeg', 'image_2152.jpeg', 'image_0985.jpeg', 'image_2025.jpeg', 'image_0895.jpeg', 'image_1281.jpeg', 'image_0869.jpeg', 'image_0528.jpeg', 'image_1496.jpeg', 'image_0608.jpeg', 'image_2063.jpeg', 'image_0739.jpeg', 'image_0438.jpeg', 'image_1263.jpeg', 'image_0880.jpeg', 'image_0932.jpeg', 'image_0856.jpeg', 'image_0989.jpeg', 'image_0430.jpeg', 'image_2251.jpeg', 'image_0397.jpeg', 'image_0226.jpeg', 'image_2319.jpeg', 'image_1265.jpeg', 'image_0086.jpeg', 'image_1371.jpeg', 'image_0775.jpeg', 'image_0189.jpeg', 'image_1274.jpeg', 'image_0830.jpeg', 'image_0017.jpeg', 'image_0353.jpeg', 'image_0540.jpeg', 'image_1310.jpeg', 'image_0106.jpeg', 'image_1745.jpeg', 'image_0015.jpeg', 'image_0027.jpeg', 'image_0848.jpeg', 'image_1530.jpeg', 'image_1331.jpeg', 'image_0984.jpeg', 'image_1002.jpeg', 'image_0551.jpeg', 'image_1439.jpeg', 'image_0831.jpeg', 'image_1807.jpeg', 'image_1382.jpeg', 'image_1021.jpeg', 'image_0746.jpeg', 'image_1777.jpeg', 'image_1918.jpeg', 'image_0373.jpeg', 'image_1152.jpeg', 'image_0712.jpeg', 'image_1855.jpeg', 'image_1544.jpeg', 'image_1991.jpeg', 'image_0920.jpeg', 'image_0981.jpeg', 'image_1849.jpeg', 'image_2327.jpeg', 'image_1539.jpeg', 'image_0043.jpeg', 'image_1205.jpeg', 'image_0307.jpeg', 'image_0622.jpeg', 'image_0973.jpeg', 'image_0532.jpeg', 'image_1646.jpeg', 'image_0600.jpeg', 'image_2272.jpeg', 'image_0943.jpeg', 'image_1738.jpeg', 'image_2019.jpeg', 'image_1788.jpeg', 'image_1413.jpeg', 'image_1865.jpeg', 'image_0628.jpeg', 'image_1782.jpeg', 'image_1075.jpeg', 'image_0444.jpeg', 'image_0649.jpeg', 'image_2300.jpeg', 'image_1036.jpeg', 'image_0757.jpeg', 'image_0513.jpeg', 'image_1083.jpeg', 'image_2137.jpeg', 'image_1852.jpeg', 'image_1425.jpeg', 'image_2011.jpeg', 'image_0852.jpeg', 'image_1714.jpeg', 'image_1755.jpeg', 'image_0344.jpeg', 'image_2115.jpeg', 'image_1063.jpeg', 'image_1137.jpeg', 'image_0003.jpeg', 'image_0948.jpeg', 'image_0429.jpeg', 'image_0447.jpeg', 'image_1421.jpeg', 'image_2135.jpeg', 'image_0264.jpeg', 'image_0240.jpeg', 'image_2057.jpeg', 'image_0587.jpeg', 'image_0715.jpeg', 'image_2253.jpeg', 'image_0801.jpeg', 'image_0753.jpeg', 'image_1542.jpeg', 'image_1026.jpeg', 'image_1272.jpeg', 'image_0169.jpeg', 'image_2021.jpeg', 'image_1551.jpeg', 'image_1266.jpeg', 'image_2324.jpeg', 'image_1052.jpeg', 'image_2074.jpeg', 'image_0568.jpeg', 'image_0375.jpeg', 'image_1661.jpeg', 'image_1204.jpeg', 'image_1845.jpeg', 'image_1607.jpeg', 'image_1313.jpeg', 'image_0647.jpeg', 'image_1166.jpeg', 'image_0864.jpeg', 'image_2068.jpeg', 'image_0157.jpeg', 'image_0502.jpeg', 'image_1901.jpeg', 'image_2142.jpeg', 'image_2212.jpeg', 'image_0441.jpeg', 'image_1215.jpeg', 'image_1804.jpeg', 'image_1469.jpeg', 'image_1962.jpeg', 'image_0839.jpeg', 'image_2279.jpeg', 'image_0258.jpeg', 'image_0614.jpeg', 'image_0125.jpeg', 'image_1529.jpeg', 'image_1148.jpeg', 'image_1805.jpeg', 'image_1020.jpeg', 'image_1151.jpeg', 'image_0060.jpeg', 'image_0823.jpeg', 'image_0676.jpeg', 'image_0296.jpeg', 'image_1403.jpeg', 'image_1088.jpeg', 'image_1620.jpeg', 'image_0598.jpeg', 'image_1881.jpeg', 'image_0735.jpeg', 'image_1632.jpeg', 'image_0137.jpeg', 'image_0720.jpeg', 'image_1131.jpeg', 'image_0737.jpeg', 'image_2312.jpeg', 'image_1553.jpeg', 'image_1099.jpeg', 'image_1072.jpeg', 'image_0897.jpeg', 'image_1199.jpeg', 'image_0384.jpeg', 'image_1211.jpeg', 'image_1372.jpeg', 'image_2307.jpeg', 'image_1975.jpeg', 'image_1066.jpeg', 'image_2082.jpeg', 'image_0987.jpeg', 'image_1175.jpeg', 'image_1271.jpeg', 'image_0966.jpeg', 'image_0853.jpeg', 'image_1236.jpeg', 'image_0147.jpeg', 'image_2325.jpeg', 'image_1454.jpeg', 'image_1824.jpeg', 'image_0514.jpeg', 'image_1412.jpeg', 'image_0590.jpeg', 'image_0999.jpeg', 'image_0246.jpeg', 'image_2299.jpeg', 'image_0465.jpeg', 'image_1153.jpeg', 'image_0332.jpeg', 'image_0339.jpeg', 'image_1367.jpeg', 'image_1467.jpeg', 'image_0154.jpeg', 'image_0980.jpeg', 'image_1361.jpeg', 'image_0459.jpeg', 'image_1724.jpeg', 'image_1373.jpeg', 'image_0781.jpeg', 'image_1336.jpeg', 'image_1736.jpeg', 'image_1437.jpeg', 'image_1914.jpeg', 'image_1388.jpeg', 'image_1808.jpeg', 'image_1684.jpeg', 'image_0629.jpeg', 'image_1176.jpeg', 'image_1222.jpeg', 'image_1459.jpeg', 'image_0761.jpeg', 'image_0992.jpeg', 'image_0490.jpeg', 'image_0919.jpeg', 'image_0377.jpeg', 'image_0107.jpeg', 'image_0482.jpeg', 'image_1231.jpeg', 'image_1219.jpeg', 'image_2283.jpeg', 'image_0942.jpeg', 'image_2176.jpeg', 'image_1378.jpeg', 'image_0705.jpeg', 'image_2195.jpeg', 'image_0764.jpeg', 'image_2305.jpeg', 'image_1650.jpeg', 'image_1312.jpeg', 'image_0842.jpeg', 'image_1858.jpeg', 'image_2164.jpeg', 'image_0978.jpeg', 'image_1562.jpeg', 'image_0158.jpeg', 'image_1324.jpeg', 'image_0998.jpeg', 'image_1903.jpeg', 'image_0084.jpeg', 'image_1672.jpeg', 'image_0100.jpeg', 'image_1999.jpeg', 'image_0591.jpeg', 'image_1628.jpeg', 'image_0321.jpeg', 'image_0603.jpeg', 'image_0112.jpeg', 'image_0411.jpeg', 'image_1910.jpeg', 'image_1512.jpeg', 'image_0738.jpeg', 'image_1904.jpeg', 'image_0604.jpeg', 'image_1320.jpeg', 'image_1362.jpeg', 'image_0860.jpeg', 'image_1332.jpeg', 'image_2023.jpeg', 'image_1062.jpeg', 'image_0261.jpeg', 'image_0422.jpeg', 'image_1712.jpeg', 'image_1247.jpeg', 'image_1470.jpeg', 'image_1093.jpeg', 'image_1117.jpeg', 'image_0294.jpeg', 'image_1188.jpeg', 'image_1986.jpeg', 'image_1427.jpeg', 'image_2138.jpeg', 'image_1696.jpeg', 'image_1623.jpeg', 'image_1882.jpeg', 'image_0330.jpeg', 'image_1360.jpeg', 'image_1037.jpeg', 'image_2222.jpeg', 'image_0891.jpeg', 'image_2293.jpeg', 'image_2103.jpeg', 'image_2214.jpeg', 'image_2206.jpeg', 'image_1540.jpeg', 'image_0348.jpeg', 'image_0727.jpeg', 'image_1598.jpeg', 'image_1384.jpeg', 'image_1873.jpeg', 'image_2097.jpeg', 'image_1886.jpeg', 'image_1363.jpeg', 'image_0970.jpeg', 'image_1179.jpeg', 'image_2006.jpeg', 'image_0301.jpeg', 'image_0553.jpeg', 'image_1051.jpeg', 'image_0941.jpeg', 'image_1621.jpeg', 'image_1483.jpeg', 'image_0172.jpeg', 'image_0963.jpeg', 'image_1342.jpeg', 'image_0546.jpeg', 'image_0236.jpeg', 'image_1082.jpeg', 'image_1941.jpeg', 'image_1318.jpeg', 'image_2194.jpeg', 'image_0167.jpeg', 'image_1359.jpeg', 'image_2123.jpeg', 'image_0621.jpeg', 'image_0552.jpeg', 'image_2091.jpeg', 'image_2317.jpeg', 'image_1575.jpeg', 'image_1183.jpeg', 'image_1592.jpeg', 'image_1609.jpeg', 'image_1840.jpeg', 'image_1718.jpeg', 'image_1433.jpeg', 'image_0597.jpeg', 'image_0418.jpeg', 'image_2311.jpeg', 'image_0356.jpeg', 'image_1846.jpeg', 'image_0784.jpeg', 'image_1809.jpeg', 'image_1158.jpeg', 'image_1482.jpeg', 'image_2165.jpeg', 'image_1835.jpeg', 'image_1642.jpeg', 'image_1507.jpeg', 'image_1293.jpeg', 'image_2231.jpeg', 'image_0694.jpeg', 'image_1159.jpeg', 'image_0507.jpeg', 'image_0758.jpeg', 'image_1928.jpeg', 'image_0642.jpeg', 'image_1919.jpeg', 'image_1198.jpeg', 'image_1234.jpeg', 'image_2322.jpeg', 'image_0364.jpeg', 'image_0516.jpeg', 'image_1921.jpeg', 'image_1242.jpeg', 'image_1742.jpeg', 'image_0170.jpeg', 'image_0833.jpeg', 'image_0091.jpeg', 'image_2223.jpeg', 'image_0627.jpeg', 'image_1321.jpeg', 'image_0572.jpeg', 'image_0131.jpeg', 'image_0616.jpeg', 'image_0768.jpeg', 'image_2143.jpeg', 'image_0703.jpeg', 'image_2064.jpeg', 'image_2088.jpeg', 'image_0549.jpeg', 'image_1009.jpeg', 'image_1287.jpeg', 'image_1461.jpeg', 'image_1473.jpeg', 'image_0787.jpeg', 'image_0612.jpeg', 'image_1311.jpeg', 'image_0563.jpeg', 'image_2105.jpeg', 'image_1911.jpeg', 'image_2349.jpeg', 'image_1113.jpeg', 'image_1704.jpeg', 'image_0792.jpeg', 'image_1246.jpeg', 'image_1139.jpeg', 'image_1316.jpeg', 'image_2237.jpeg', 'image_1463.jpeg', 'image_2090.jpeg', 'image_2323.jpeg', 'image_1107.jpeg', 'image_2093.jpeg', 'image_2010.jpeg', 'image_1245.jpeg', 'image_0285.jpeg', 'image_2235.jpeg', 'image_2215.jpeg', 'image_0721.jpeg', 'image_0644.jpeg', 'image_1207.jpeg', 'image_1003.jpeg', 'image_0395.jpeg', 'image_1112.jpeg', 'image_1407.jpeg', 'image_0765.jpeg', 'image_0098.jpeg', 'image_1599.jpeg', 'image_1286.jpeg', 'image_1655.jpeg', 'image_0883.jpeg', 'image_0037.jpeg', 'image_0079.jpeg', 'image_2159.jpeg', 'image_0118.jpeg', 'image_0142.jpeg', 'image_1698.jpeg', 'image_0338.jpeg', 'image_0751.jpeg', 'image_0585.jpeg', 'image_2110.jpeg', 'image_1867.jpeg', 'image_0205.jpeg', 'image_1838.jpeg', 'image_1850.jpeg', 'image_0724.jpeg', 'image_1355.jpeg', 'image_2379.jpeg', 'image_0776.jpeg', 'image_1285.jpeg', 'image_2372.jpeg', 'image_0042.jpeg', 'image_1001.jpeg', 'image_0284.jpeg', 'image_0407.jpeg', 'image_2013.jpeg', 'image_2366.jpeg', 'image_1643.jpeg', 'image_1983.jpeg', 'image_0190.jpeg', 'image_1118.jpeg', 'image_1864.jpeg', 'image_2294.jpeg', 'image_0095.jpeg', 'image_0070.jpeg', 'image_1994.jpeg', 'image_1556.jpeg', 'image_1032.jpeg', 'image_1749.jpeg', 'image_2144.jpeg', 'image_1089.jpeg', 'image_1460.jpeg', 'image_2045.jpeg', 'image_1303.jpeg', 'image_0228.jpeg', 'image_2096.jpeg', 'image_0479.jpeg', 'image_1145.jpeg', 'image_2107.jpeg', 'image_0588.jpeg', 'image_0370.jpeg', 'image_0796.jpeg', 'image_1436.jpeg', 'image_0089.jpeg', 'image_0351.jpeg', 'image_0777.jpeg', 'image_1978.jpeg', 'image_2316.jpeg', 'image_2258.jpeg', 'image_2273.jpeg', 'image_2257.jpeg', 'image_0317.jpeg', 'image_0996.jpeg', 'image_1789.jpeg', 'image_2281.jpeg', 'image_0197.jpeg', 'image_1280.jpeg', 'image_0178.jpeg', 'image_1663.jpeg', 'image_0404.jpeg', 'image_2128.jpeg', 'image_0623.jpeg', 'image_0887.jpeg', 'image_1344.jpeg', 'image_0517.jpeg', 'image_1706.jpeg', 'image_1842.jpeg', 'image_0224.jpeg', 'image_0866.jpeg', 'image_0684.jpeg', 'image_0075.jpeg', 'image_1290.jpeg', 'image_1915.jpeg', 'image_1040.jpeg', 'image_1797.jpeg', 'image_1390.jpeg', 'image_0102.jpeg', 'image_1549.jpeg', 'image_1424.jpeg', 'image_0382.jpeg', 'image_0135.jpeg', 'image_0164.jpeg', 'image_0825.jpeg', 'image_1887.jpeg', 'image_1990.jpeg', 'image_1517.jpeg', 'image_1282.jpeg', 'image_1645.jpeg', 'image_0320.jpeg', 'image_1330.jpeg', 'image_1537.jpeg', 'image_0044.jpeg', 'image_0899.jpeg', 'image_2054.jpeg', 'image_2390.jpeg', 'image_1078.jpeg', 'image_1227.jpeg', 'image_0419.jpeg', 'image_0609.jpeg', 'image_0335.jpeg', 'image_0065.jpeg', 'image_0213.jpeg', 'image_1249.jpeg', 'image_1502.jpeg', 'image_0025.jpeg', 'image_2320.jpeg', 'image_2336.jpeg', 'image_0938.jpeg', 'image_1987.jpeg', 'image_1897.jpeg', 'image_0001.jpeg', 'image_2044.jpeg', 'image_1300.jpeg', 'image_2117.jpeg', 'image_0659.jpeg', 'image_0421.jpeg', 'image_1869.jpeg', 'image_2127.jpeg', 'image_0391.jpeg', 'image_0371.jpeg', 'image_2120.jpeg', 'image_1244.jpeg', 'image_2172.jpeg', 'image_1830.jpeg', 'image_2050.jpeg', 'image_1741.jpeg', 'image_1680.jpeg', 'image_1923.jpeg', 'image_0038.jpeg', 'image_2102.jpeg', 'image_0406.jpeg', 'image_0826.jpeg', 'image_0718.jpeg', 'image_0508.jpeg', 'image_0401.jpeg', 'image_0248.jpeg', 'image_2182.jpeg', 'image_0815.jpeg', 'image_1970.jpeg', 'image_0453.jpeg', 'image_1942.jpeg', 'image_0052.jpeg', 'image_1235.jpeg', 'image_2076.jpeg', 'image_0681.jpeg', 'image_0930.jpeg', 'image_0080.jpeg', 'image_1091.jpeg', 'image_1519.jpeg', 'image_2160.jpeg', 'image_1510.jpeg', 'image_0656.jpeg', 'image_0055.jpeg', 'image_0931.jpeg', 'image_0483.jpeg', 'image_1276.jpeg', 'image_0595.jpeg', 'image_1514.jpeg', 'image_1069.jpeg', 'image_0437.jpeg', 'image_2374.jpeg', 'image_1726.jpeg', 'image_1299.jpeg', 'image_0342.jpeg', 'image_1174.jpeg', 'image_0220.jpeg', 'image_2304.jpeg', 'image_0991.jpeg', 'image_1868.jpeg', 'image_2100.jpeg', 'image_1639.jpeg', 'image_2342.jpeg', 'image_2042.jpeg', 'image_0696.jpeg', 'image_0028.jpeg', 'image_1751.jpeg', 'image_0813.jpeg', 'image_2167.jpeg', 'image_0780.jpeg', 'image_1515.jpeg', 'image_2024.jpeg', 'image_2153.jpeg', 'image_0481.jpeg', 'image_2370.jpeg', 'image_2157.jpeg', 'image_2352.jpeg', 'image_1721.jpeg', 'image_1108.jpeg', 'image_0679.jpeg', 'image_0997.jpeg', 'image_0834.jpeg', 'image_2341.jpeg', 'image_1756.jpeg', 'image_1839.jpeg', 'image_0962.jpeg', 'image_1985.jpeg', 'image_0882.jpeg', 'image_0368.jpeg', 'image_1006.jpeg', 'image_1608.jpeg', 'image_0986.jpeg', 'image_2004.jpeg', 'image_0555.jpeg', 'image_0270.jpeg', 'image_0275.jpeg', 'image_0093.jpeg', 'image_1024.jpeg', 'image_1195.jpeg', 'image_0267.jpeg']\n"
          ]
        }
      ]
    },
    {
      "cell_type": "code",
      "source": [
        "import cv2\n",
        "import numpy as np\n",
        "from sklearn.svm import SVC\n",
        "from sklearn.neural_network import MLPClassifier\n",
        "from skimage.feature import hog\n",
        "from skimage import data, exposure\n",
        "import matplotlib.pyplot as plt\n",
        "import os\n",
        "import ast\n",
        "import random\n",
        "\n",
        "import torch\n",
        "from torch.nn.utils.rnn import pad_sequence"
      ],
      "metadata": {
        "id": "Ac2gDRrZ5dxX"
      },
      "execution_count": 6,
      "outputs": []
    },
    {
      "cell_type": "markdown",
      "source": [
        "### **Data Loading and HOG features Extraction**"
      ],
      "metadata": {
        "id": "piPiif4McZae"
      }
    },
    {
      "cell_type": "code",
      "source": [
        "def extract_hog_features(image):\n",
        "    # Convert image to grayscale\n",
        "    gray_image = cv2.cvtColor(image, cv2.COLOR_BGR2GRAY)\n",
        "    # Compute HOG features\n",
        "    features, hog_image = hog(gray_image, orientations=9, pixels_per_cell=(8, 8), cells_per_block=(2, 2), visualize=True, multichannel=False)\n",
        "    \n",
        "    return features, hog_image"
      ],
      "metadata": {
        "id": "w1mFjHei5uCO"
      },
      "execution_count": 33,
      "outputs": []
    },
    {
      "cell_type": "code",
      "source": [
        "# Data loader function\n",
        "def load_images_from_folder(folder):\n",
        "    # Initialize lists for storing images and labels\n",
        "    images = []\n",
        "    labels = []\n",
        "    hog_images = []\n",
        "    # Loop through each subfolder in the folder\n",
        "    for subfolder in os.listdir(folder):\n",
        "        subfolder_path = os.path.join(folder, subfolder)\n",
        "        # Loop through each image in the subfolder\n",
        "        for filename in os.listdir(subfolder_path):\n",
        "            img_path = os.path.join(subfolder_path, filename)\n",
        "            # Load image\n",
        "            img = cv2.imread(img_path)\n",
        "            # Extract HOG features\n",
        "            hog_features, hog_image = extract_hog_features(img)\n",
        "            # Add image and label to the lists\n",
        "            images.append(torch.tensor(hog_features))\n",
        "            labels.append(int(subfolder))\n",
        "            hog_images.append(hog_image)\n",
        "            \n",
        "    \n",
        "    # Padding using pytoch pad sequence\n",
        "    padded_tensors = pad_sequence(images,batch_first=True, padding_value=0)\n",
        "    hog_images = np.array(hog_images, dtype=object)\n",
        "    padded_numpy_array = padded_tensors.numpy()\n",
        "    return padded_numpy_array , labels, hog_images"
      ],
      "metadata": {
        "id": "Wtg8X5pL5x__"
      },
      "execution_count": 34,
      "outputs": []
    },
    {
      "cell_type": "code",
      "source": [
        "# Load training data\n",
        "train_folder = 'Data/train'\n",
        "train_images, train_labels, train_hog_images = load_images_from_folder(train_folder)\n",
        "\n",
        "# Load testing data\n",
        "test_folder = 'Data/test'\n",
        "test_images, test_labels, test_hog_images = load_images_from_folder(test_folder)"
      ],
      "metadata": {
        "colab": {
          "base_uri": "https://localhost:8080/"
        },
        "id": "yNcdc2MQ52hF",
        "outputId": "0124a808-63de-4f49-f846-898b7ba7a233"
      },
      "execution_count": 35,
      "outputs": [
        {
          "output_type": "stream",
          "name": "stderr",
          "text": [
            "<ipython-input-33-08e3e4c073ac>:5: FutureWarning:\n",
            "\n",
            "`multichannel` is a deprecated argument name for `hog`. It will be removed in version 1.0. Please use `channel_axis` instead.\n",
            "\n"
          ]
        }
      ]
    },
    {
      "cell_type": "code",
      "source": [
        "from skimage.transform import resize\n",
        "\n",
        "# Define the target size for the images\n",
        "target_size = (64, 64)\n",
        "\n",
        "# Visualize the first four HOG images\n",
        "fig, axs = plt.subplots(1, 4, figsize=(10, 5))\n",
        "for i in range(4):\n",
        "    # Resize the image to the target size\n",
        "    image_resized = resize(train_hog_images[i], target_size, anti_aliasing=True)\n",
        "    axs[i].imshow(image_resized, cmap='gray')\n",
        "    axs[i].axis('off')\n",
        "plt.show()\n"
      ],
      "metadata": {
        "colab": {
          "base_uri": "https://localhost:8080/",
          "height": 205
        },
        "id": "NWJIk8rD_thT",
        "outputId": "3bd1a450-c114-4f26-8399-7aeb67df33c6"
      },
      "execution_count": 38,
      "outputs": [
        {
          "output_type": "display_data",
          "data": {
            "text/plain": [
              "<Figure size 1000x500 with 4 Axes>"
            ],
            "image/png": "[encoded data removed]"
          },
          "metadata": {}
        }
      ]
    },
    {
      "cell_type": "markdown",
      "source": [
        "### **Check Class Distribution and Applying SMOTE**"
      ],
      "metadata": {
        "id": "Jdp_qFaKcptT"
      }
    },
    {
      "cell_type": "code",
      "source": [
        "# craeting bar plot to check distribution in each class\n",
        "import seaborn as sns\n",
        "import matplotlib.pyplot as plt\n",
        "\n",
        "zero_class = len(os.listdir('/content/Data/train/0'))\n",
        "one_class = len(os.listdir('/content/Data/train/1'))\n",
        "two_class = len(os.listdir('/content/Data/train/2'))\n",
        "\n",
        "\n",
        "\n",
        "# create sample data\n",
        "x = ['0', '1', '2']\n",
        "y = [zero_class, one_class, two_class]\n",
        "\n",
        "# create bar plot using Seaborn\n",
        "sns.set(style='darkgrid')\n",
        "sns.barplot(x=x, y=y)\n",
        "\n",
        "# set plot title and axis labels\n",
        "plt.title('Class distribution in Training Data Before Applying SMOTE')\n",
        "plt.xlabel('Classes')\n",
        "plt.ylabel('Number of Images')\n",
        "\n",
        "# display plot\n",
        "plt.show()\n"
      ],
      "metadata": {
        "colab": {
          "base_uri": "https://localhost:8080/",
          "height": 480
        },
        "id": "P8LAzG8Wuo-d",
        "outputId": "18b22256-8e67-46de-db12-824776f7729a"
      },
      "execution_count": 12,
      "outputs": [
        {
          "output_type": "display_data",
          "data": {
            "text/plain": [
              "<Figure size 640x480 with 1 Axes>"
            ],
            "image/png": "[encoded data removed]"
          },
          "metadata": {}
        }
      ]
    },
    {
      "cell_type": "code",
      "source": [
        "print(test_images.shape)\n",
        "print(train_images.shape)\n",
        "print(len(train_labels))\n",
        "print(len(test_labels))\n",
        "# print(test_images_reshaped.shape)"
      ],
      "metadata": {
        "colab": {
          "base_uri": "https://localhost:8080/"
        },
        "id": "DDoEreO4xeBx",
        "outputId": "4af0d898-b93d-450a-fd64-8b72c09c65f4"
      },
      "execution_count": 13,
      "outputs": [
        {
          "output_type": "stream",
          "name": "stdout",
          "text": [
            "(458, 35496)\n",
            "(2394, 56088)\n",
            "2394\n",
            "458\n"
          ]
        }
      ]
    },
    {
      "cell_type": "code",
      "source": [
        "import numpy as np\n",
        "from imblearn.over_sampling import SMOTE\n",
        "\n",
        "# Create SMOTE object\n",
        "sm = SMOTE(random_state=42)\n",
        "\n",
        "# Convert train_labels to numpy array and reshape to match the number of rows in train_images\n",
        "train_labels_np = np.array(train_labels)\n",
        "train_labels_reshaped = train_labels_np.reshape(-1, 1)\n",
        "\n",
        "# Apply SMOTE to train_images and train_labels\n",
        "train_images_resampled, train_labels_resampled = sm.fit_resample(train_images, train_labels_reshaped)\n",
        "\n",
        "# Reshape train_labels back to 1D array\n",
        "train_labels_resampled = train_labels_resampled.ravel()\n",
        "\n",
        "# Check the new class distribution\n",
        "print('Class Distribution after SMOTE:', np.bincount(train_labels_resampled))\n",
        "\n",
        "# Now train_images_resampled and train_labels_resampled can be used for training the classifier\n"
      ],
      "metadata": {
        "colab": {
          "base_uri": "https://localhost:8080/"
        },
        "id": "oPVL5BNqyoRE",
        "outputId": "8414d25f-ce61-425f-b6f9-bd336d7d53b9"
      },
      "execution_count": 14,
      "outputs": [
        {
          "output_type": "stream",
          "name": "stdout",
          "text": [
            "Class Distribution after SMOTE: [1940 1940 1940]\n"
          ]
        }
      ]
    },
    {
      "cell_type": "code",
      "source": [
        "print(np.bincount(train_labels_resampled))"
      ],
      "metadata": {
        "colab": {
          "base_uri": "https://localhost:8080/"
        },
        "id": "i7rgZRbNHJNb",
        "outputId": "dc035003-7c08-4f67-96b7-4af591e0b754"
      },
      "execution_count": 17,
      "outputs": [
        {
          "output_type": "stream",
          "name": "stdout",
          "text": [
            "[1940 1940 1940]\n"
          ]
        }
      ]
    },
    {
      "cell_type": "code",
      "source": [
        "# craeting bar plot to check distribution in each class\n",
        "import seaborn as sns\n",
        "import matplotlib.pyplot as plt\n",
        "\n",
        "# create sample data\n",
        "x = ['0', '1', '2']\n",
        "y = np.bincount(train_labels_resampled)\n",
        "\n",
        "# create bar plot using Seaborn\n",
        "sns.set(style='darkgrid')\n",
        "sns.barplot(x=x, y=y)\n",
        "\n",
        "# set plot title and axis labels\n",
        "plt.title('Class distribution in Training Data After Applying SMOTE')\n",
        "plt.xlabel('Classes')\n",
        "plt.ylabel('Number of Images')\n",
        "\n",
        "# display plot\n",
        "plt.show()\n"
      ],
      "metadata": {
        "colab": {
          "base_uri": "https://localhost:8080/",
          "height": 480
        },
        "id": "MIl9IeyAGlwX",
        "outputId": "aa338360-fb49-454c-baa8-e4d0a5365e1d"
      },
      "execution_count": 18,
      "outputs": [
        {
          "output_type": "display_data",
          "data": {
            "text/plain": [
              "<Figure size 640x480 with 1 Axes>"
            ],
            "image/png": "[encoded data removed]"
          },
          "metadata": {}
        }
      ]
    },
    {
      "cell_type": "code",
      "source": [
        "print(train_images_resampled.shape)\n",
        "print(train_labels_resampled.shape)"
      ],
      "metadata": {
        "colab": {
          "base_uri": "https://localhost:8080/"
        },
        "id": "8ZoXVDG_0cjj",
        "outputId": "b99c88da-d4e9-4ef8-a29c-7b7aba6f3ae0"
      },
      "execution_count": 19,
      "outputs": [
        {
          "output_type": "stream",
          "name": "stdout",
          "text": [
            "(5820, 56088)\n",
            "(5820,)\n"
          ]
        }
      ]
    },
    {
      "cell_type": "markdown",
      "source": [
        "### **MLP Classifier**"
      ],
      "metadata": {
        "id": "VYuDtJqoc2XV"
      }
    },
    {
      "cell_type": "code",
      "source": [
        "from sklearn.neural_network import MLPClassifier\n",
        "from sklearn.metrics import confusion_matrix\n",
        "\n",
        "# Create MLP classifier\n",
        "mlp_classifier = MLPClassifier(hidden_layer_sizes=(100,), max_iter=500, alpha=0.0001,\n",
        "                               solver='adam', verbose=10, tol=0.0001, random_state=1)\n",
        "\n",
        "# Train MLP classifier\n",
        "mlp_classifier.fit(train_images, train_labels)\n",
        "\n",
        "# Test MLP classifier\n",
        "\n",
        "# assume train_images is already loaded with shape (2394, 56088)\n",
        "# assume test_images is already loaded with shape (458, 35496)\n",
        "\n",
        "# calculate the total number of features\n",
        "num_features = train_images.shape[1]\n",
        "\n",
        "# reshape the test set to match the number of features in the training set\n",
        "test_images_reshaped = np.zeros((test_images.shape[0], num_features))\n",
        "test_images_reshaped[:, :test_images.shape[1]] = test_images\n",
        "\n",
        "# now test_images_reshaped has shape (458, 56088), which is the same as train_images\n",
        "mlp_score = mlp_classifier.score(test_images_reshaped, test_labels)\n",
        "print('MLP Classifier Accuracy:', mlp_score)"
      ],
      "metadata": {
        "colab": {
          "base_uri": "https://localhost:8080/"
        },
        "id": "LMLJUFlfEEDv",
        "outputId": "335163d7-ca9a-4dad-99f6-a9a961359482"
      },
      "execution_count": 20,
      "outputs": [
        {
          "output_type": "stream",
          "name": "stdout",
          "text": [
            "Iteration 1, loss = 0.98113188\n",
            "Iteration 2, loss = 0.73060127\n",
            "Iteration 3, loss = 0.63138381\n",
            "Iteration 4, loss = 0.58489062\n",
            "Iteration 5, loss = 0.54699308\n",
            "Iteration 6, loss = 0.52141077\n",
            "Iteration 7, loss = 0.50390547\n",
            "Iteration 8, loss = 0.48937269\n",
            "Iteration 9, loss = 0.47506854\n",
            "Iteration 10, loss = 0.46591983\n",
            "Iteration 11, loss = 0.45475644\n",
            "Iteration 12, loss = 0.44618905\n",
            "Iteration 13, loss = 0.43733275\n",
            "Iteration 14, loss = 0.42991757\n",
            "Iteration 15, loss = 0.42266330\n",
            "Iteration 16, loss = 0.41612314\n",
            "Iteration 17, loss = 0.40845490\n",
            "Iteration 18, loss = 0.40183979\n",
            "Iteration 19, loss = 0.39548131\n",
            "Iteration 20, loss = 0.38982789\n",
            "Iteration 21, loss = 0.38422594\n",
            "Iteration 22, loss = 0.37829293\n",
            "Iteration 23, loss = 0.37391752\n",
            "Iteration 24, loss = 0.37031450\n",
            "Iteration 25, loss = 0.36599113\n",
            "Iteration 26, loss = 0.36128317\n",
            "Iteration 27, loss = 0.35636486\n",
            "Iteration 28, loss = 0.35221195\n",
            "Iteration 29, loss = 0.34994772\n",
            "Iteration 30, loss = 0.34517695\n",
            "Iteration 31, loss = 0.34124679\n",
            "Iteration 32, loss = 0.33799504\n",
            "Iteration 33, loss = 0.33404934\n",
            "Iteration 34, loss = 0.33109681\n",
            "Iteration 35, loss = 0.32824603\n",
            "Iteration 36, loss = 0.32311150\n",
            "Iteration 37, loss = 0.32030354\n",
            "Iteration 38, loss = 0.31755856\n",
            "Iteration 39, loss = 0.31484357\n",
            "Iteration 40, loss = 0.31417006\n",
            "Iteration 41, loss = 0.31085350\n",
            "Iteration 42, loss = 0.30885207\n",
            "Iteration 43, loss = 0.30678489\n",
            "Iteration 44, loss = 0.30411665\n",
            "Iteration 45, loss = 0.30218613\n",
            "Iteration 46, loss = 0.29952939\n",
            "Iteration 47, loss = 0.29671495\n",
            "Iteration 48, loss = 0.29447149\n",
            "Iteration 49, loss = 0.29377822\n",
            "Iteration 50, loss = 0.29154343\n",
            "Iteration 51, loss = 0.29128439\n",
            "Iteration 52, loss = 0.28777402\n",
            "Iteration 53, loss = 0.28601560\n",
            "Iteration 54, loss = 0.28562980\n",
            "Iteration 55, loss = 0.28305423\n",
            "Iteration 56, loss = 0.28068396\n",
            "Iteration 57, loss = 0.27971696\n",
            "Iteration 58, loss = 0.27763408\n",
            "Iteration 59, loss = 0.27760198\n",
            "Iteration 60, loss = 0.27562819\n",
            "Iteration 61, loss = 0.27389390\n",
            "Iteration 62, loss = 0.27362281\n",
            "Iteration 63, loss = 0.27153644\n",
            "Iteration 64, loss = 0.27080150\n",
            "Iteration 65, loss = 0.26830063\n",
            "Iteration 66, loss = 0.26985196\n",
            "Iteration 67, loss = 0.26711997\n",
            "Iteration 68, loss = 0.26538152\n",
            "Iteration 69, loss = 0.26469589\n",
            "Iteration 70, loss = 0.26234199\n",
            "Iteration 71, loss = 0.26105749\n",
            "Iteration 72, loss = 0.26090520\n",
            "Iteration 73, loss = 0.25926784\n",
            "Iteration 74, loss = 0.25840599\n",
            "Iteration 75, loss = 0.25746517\n",
            "Iteration 76, loss = 0.25562901\n",
            "Iteration 77, loss = 0.25627828\n",
            "Iteration 78, loss = 0.25436349\n",
            "Iteration 79, loss = 0.25214359\n",
            "Iteration 80, loss = 0.25213939\n",
            "Iteration 81, loss = 0.25167723\n",
            "Iteration 82, loss = 0.25130671\n",
            "Iteration 83, loss = 0.25100137\n",
            "Iteration 84, loss = 0.24742027\n",
            "Iteration 85, loss = 0.24794218\n",
            "Iteration 86, loss = 0.24661469\n",
            "Iteration 87, loss = 0.25040660\n",
            "Iteration 88, loss = 0.24588376\n",
            "Iteration 89, loss = 0.24317218\n",
            "Iteration 90, loss = 0.24340763\n",
            "Iteration 91, loss = 0.24230703\n",
            "Iteration 92, loss = 0.24214485\n",
            "Iteration 93, loss = 0.24036355\n",
            "Iteration 94, loss = 0.23943026\n",
            "Iteration 95, loss = 0.23955858\n",
            "Iteration 96, loss = 0.23844543\n",
            "Iteration 97, loss = 0.23716309\n",
            "Iteration 98, loss = 0.23610253\n",
            "Iteration 99, loss = 0.23597958\n",
            "Iteration 100, loss = 0.23498929\n",
            "Iteration 101, loss = 0.23501880\n",
            "Iteration 102, loss = 0.23524567\n",
            "Iteration 103, loss = 0.23291458\n",
            "Iteration 104, loss = 0.23217250\n",
            "Iteration 105, loss = 0.23349055\n",
            "Iteration 106, loss = 0.23188066\n",
            "Iteration 107, loss = 0.23164843\n",
            "Iteration 108, loss = 0.22958636\n",
            "Iteration 109, loss = 0.22889924\n",
            "Iteration 110, loss = 0.23060695\n",
            "Iteration 111, loss = 0.23093565\n",
            "Iteration 112, loss = 0.22866951\n",
            "Iteration 113, loss = 0.22740878\n",
            "Iteration 114, loss = 0.22787160\n",
            "Iteration 115, loss = 0.22450908\n",
            "Iteration 116, loss = 0.22373677\n",
            "Iteration 117, loss = 0.22530277\n",
            "Iteration 118, loss = 0.22382762\n",
            "Iteration 119, loss = 0.22463315\n",
            "Iteration 120, loss = 0.22253442\n",
            "Iteration 121, loss = 0.22136447\n",
            "Iteration 122, loss = 0.22030359\n",
            "Iteration 123, loss = 0.22119601\n",
            "Iteration 124, loss = 0.22148314\n",
            "Iteration 125, loss = 0.22150909\n",
            "Iteration 126, loss = 0.21948105\n",
            "Iteration 127, loss = 0.21962046\n",
            "Iteration 128, loss = 0.21980541\n",
            "Iteration 129, loss = 0.21685427\n",
            "Iteration 130, loss = 0.21633071\n",
            "Iteration 131, loss = 0.21605630\n",
            "Iteration 132, loss = 0.21714555\n",
            "Iteration 133, loss = 0.21675938\n",
            "Iteration 134, loss = 0.21605334\n",
            "Iteration 135, loss = 0.21387560\n",
            "Iteration 136, loss = 0.21280548\n",
            "Iteration 137, loss = 0.21287052\n",
            "Iteration 138, loss = 0.21248439\n",
            "Iteration 139, loss = 0.21199909\n",
            "Iteration 140, loss = 0.21192045\n",
            "Iteration 141, loss = 0.21115423\n",
            "Iteration 142, loss = 0.21129028\n",
            "Iteration 143, loss = 0.21079697\n",
            "Iteration 144, loss = 0.20973670\n",
            "Iteration 145, loss = 0.21189418\n",
            "Iteration 146, loss = 0.20919869\n",
            "Iteration 147, loss = 0.20783618\n",
            "Iteration 148, loss = 0.20757891\n",
            "Iteration 149, loss = 0.20629577\n",
            "Iteration 150, loss = 0.20731870\n",
            "Iteration 151, loss = 0.20675087\n",
            "Iteration 152, loss = 0.20485743\n",
            "Iteration 153, loss = 0.20465479\n",
            "Iteration 154, loss = 0.20488362\n",
            "Iteration 155, loss = 0.20442144\n",
            "Iteration 156, loss = 0.20391337\n",
            "Iteration 157, loss = 0.20441418\n",
            "Iteration 158, loss = 0.20313475\n",
            "Iteration 159, loss = 0.20309873\n",
            "Iteration 160, loss = 0.20200741\n",
            "Iteration 161, loss = 0.20163728\n",
            "Iteration 162, loss = 0.20215386\n",
            "Iteration 163, loss = 0.20186740\n",
            "Iteration 164, loss = 0.20077416\n",
            "Iteration 165, loss = 0.19968563\n",
            "Iteration 166, loss = 0.19947516\n",
            "Iteration 167, loss = 0.19914096\n",
            "Iteration 168, loss = 0.19904561\n",
            "Iteration 169, loss = 0.19849411\n",
            "Iteration 170, loss = 0.19810798\n",
            "Iteration 171, loss = 0.19749307\n",
            "Iteration 172, loss = 0.19838145\n",
            "Iteration 173, loss = 0.19672996\n",
            "Iteration 174, loss = 0.19705476\n",
            "Iteration 175, loss = 0.20009509\n",
            "Iteration 176, loss = 0.19639499\n",
            "Iteration 177, loss = 0.19511054\n",
            "Iteration 178, loss = 0.19416404\n",
            "Iteration 179, loss = 0.19446276\n",
            "Iteration 180, loss = 0.19573626\n",
            "Iteration 181, loss = 0.19528310\n",
            "Iteration 182, loss = 0.19336892\n",
            "Iteration 183, loss = 0.19271059\n",
            "Iteration 184, loss = 0.19273975\n",
            "Iteration 185, loss = 0.19232479\n",
            "Iteration 186, loss = 0.19215308\n",
            "Iteration 187, loss = 0.19180820\n",
            "Iteration 188, loss = 0.19104341\n",
            "Iteration 189, loss = 0.19036570\n",
            "Iteration 190, loss = 0.19087484\n",
            "Iteration 191, loss = 0.19053713\n",
            "Iteration 192, loss = 0.19139684\n",
            "Iteration 193, loss = 0.19080195\n",
            "Iteration 194, loss = 0.18848216\n",
            "Iteration 195, loss = 0.18881585\n",
            "Iteration 196, loss = 0.18885288\n",
            "Iteration 197, loss = 0.19100021\n",
            "Iteration 198, loss = 0.19056845\n",
            "Iteration 199, loss = 0.18751801\n",
            "Iteration 200, loss = 0.18677472\n",
            "Iteration 201, loss = 0.18584847\n",
            "Iteration 202, loss = 0.18615600\n",
            "Iteration 203, loss = 0.18668757\n",
            "Iteration 204, loss = 0.18648304\n",
            "Iteration 205, loss = 0.18652706\n",
            "Iteration 206, loss = 0.18418842\n",
            "Iteration 207, loss = 0.18689144\n",
            "Iteration 208, loss = 0.18425708\n",
            "Iteration 209, loss = 0.18452269\n",
            "Iteration 210, loss = 0.18483889\n",
            "Iteration 211, loss = 0.18359130\n",
            "Iteration 212, loss = 0.18276124\n",
            "Iteration 213, loss = 0.18186226\n",
            "Iteration 214, loss = 0.18147401\n",
            "Iteration 215, loss = 0.18196483\n",
            "Iteration 216, loss = 0.18102828\n",
            "Iteration 217, loss = 0.18287919\n",
            "Iteration 218, loss = 0.18205904\n",
            "Iteration 219, loss = 0.17969920\n",
            "Iteration 220, loss = 0.17984856\n",
            "Iteration 221, loss = 0.17972930\n",
            "Iteration 222, loss = 0.18015148\n",
            "Iteration 223, loss = 0.17879480\n",
            "Iteration 224, loss = 0.17944672\n",
            "Iteration 225, loss = 0.18077244\n",
            "Iteration 226, loss = 0.17724961\n",
            "Iteration 227, loss = 0.17844655\n",
            "Iteration 228, loss = 0.17739726\n",
            "Iteration 229, loss = 0.17814256\n",
            "Iteration 230, loss = 0.17697942\n",
            "Iteration 231, loss = 0.17659322\n",
            "Iteration 232, loss = 0.17689788\n",
            "Iteration 233, loss = 0.17531195\n",
            "Iteration 234, loss = 0.17549744\n",
            "Iteration 235, loss = 0.17479117\n",
            "Iteration 236, loss = 0.17495193\n",
            "Iteration 237, loss = 0.17650485\n",
            "Iteration 238, loss = 0.17362931\n",
            "Iteration 239, loss = 0.17318018\n",
            "Iteration 240, loss = 0.17341632\n",
            "Iteration 241, loss = 0.17378479\n",
            "Iteration 242, loss = 0.17310221\n",
            "Iteration 243, loss = 0.17188440\n",
            "Iteration 244, loss = 0.17151287\n",
            "Iteration 245, loss = 0.17127584\n",
            "Iteration 246, loss = 0.17159192\n",
            "Iteration 247, loss = 0.17130168\n",
            "Iteration 248, loss = 0.17024733\n",
            "Iteration 249, loss = 0.17027671\n",
            "Iteration 250, loss = 0.16962376\n",
            "Iteration 251, loss = 0.17043559\n",
            "Iteration 252, loss = 0.16877313\n",
            "Iteration 253, loss = 0.16974590\n",
            "Iteration 254, loss = 0.16843226\n",
            "Iteration 255, loss = 0.16867407\n",
            "Iteration 256, loss = 0.17127774\n",
            "Iteration 257, loss = 0.17017023\n",
            "Iteration 258, loss = 0.16850938\n",
            "Iteration 259, loss = 0.16880807\n",
            "Iteration 260, loss = 0.16720516\n",
            "Iteration 261, loss = 0.16707700\n",
            "Iteration 262, loss = 0.16705813\n",
            "Iteration 263, loss = 0.16559671\n",
            "Iteration 264, loss = 0.16495189\n",
            "Iteration 265, loss = 0.16463208\n",
            "Iteration 266, loss = 0.16470714\n",
            "Iteration 267, loss = 0.16422087\n",
            "Iteration 268, loss = 0.16431406\n",
            "Iteration 269, loss = 0.16459618\n",
            "Iteration 270, loss = 0.16333579\n",
            "Iteration 271, loss = 0.16285170\n",
            "Iteration 272, loss = 0.16336005\n",
            "Iteration 273, loss = 0.16230018\n",
            "Iteration 274, loss = 0.16290622\n",
            "Iteration 275, loss = 0.16284790\n",
            "Iteration 276, loss = 0.16216799\n",
            "Iteration 277, loss = 0.16143498\n",
            "Iteration 278, loss = 0.16101296\n",
            "Iteration 279, loss = 0.16421111\n",
            "Iteration 280, loss = 0.16226751\n",
            "Iteration 281, loss = 0.15979177\n",
            "Iteration 282, loss = 0.16034280\n",
            "Iteration 283, loss = 0.15936657\n",
            "Iteration 284, loss = 0.15957009\n",
            "Iteration 285, loss = 0.15986831\n",
            "Iteration 286, loss = 0.15974766\n",
            "Iteration 287, loss = 0.15834381\n",
            "Iteration 288, loss = 0.15718244\n",
            "Iteration 289, loss = 0.15808988\n",
            "Iteration 290, loss = 0.15755488\n",
            "Iteration 291, loss = 0.15667335\n",
            "Iteration 292, loss = 0.15672843\n",
            "Iteration 293, loss = 0.15599261\n",
            "Iteration 294, loss = 0.15628600\n",
            "Iteration 295, loss = 0.15573363\n",
            "Iteration 296, loss = 0.15489678\n",
            "Iteration 297, loss = 0.15509113\n",
            "Iteration 298, loss = 0.15454401\n",
            "Iteration 299, loss = 0.15419758\n",
            "Iteration 300, loss = 0.15393337\n",
            "Iteration 301, loss = 0.15541549\n",
            "Iteration 302, loss = 0.15513003\n",
            "Iteration 303, loss = 0.15314638\n",
            "Iteration 304, loss = 0.15403832\n",
            "Iteration 305, loss = 0.15314318\n",
            "Iteration 306, loss = 0.15168000\n",
            "Iteration 307, loss = 0.15111806\n",
            "Iteration 308, loss = 0.15073339\n",
            "Iteration 309, loss = 0.15091434\n",
            "Iteration 310, loss = 0.15054313\n",
            "Iteration 311, loss = 0.14967728\n",
            "Iteration 312, loss = 0.14996634\n",
            "Iteration 313, loss = 0.15107076\n",
            "Iteration 314, loss = 0.15132035\n",
            "Iteration 315, loss = 0.14917385\n",
            "Iteration 316, loss = 0.14806408\n",
            "Iteration 317, loss = 0.14808327\n",
            "Iteration 318, loss = 0.14896528\n",
            "Iteration 319, loss = 0.14825057\n",
            "Iteration 320, loss = 0.14784274\n",
            "Iteration 321, loss = 0.14786294\n",
            "Iteration 322, loss = 0.14641623\n",
            "Iteration 323, loss = 0.14609351\n",
            "Iteration 324, loss = 0.14732045\n",
            "Iteration 325, loss = 0.14628718\n",
            "Iteration 326, loss = 0.14483407\n",
            "Iteration 327, loss = 0.14485282\n",
            "Iteration 328, loss = 0.14563768\n",
            "Iteration 329, loss = 0.14532177\n",
            "Iteration 330, loss = 0.14404471\n",
            "Iteration 331, loss = 0.14437186\n",
            "Iteration 332, loss = 0.14446471\n",
            "Iteration 333, loss = 0.14429383\n",
            "Iteration 334, loss = 0.14317801\n",
            "Iteration 335, loss = 0.14309761\n",
            "Iteration 336, loss = 0.14252333\n",
            "Iteration 337, loss = 0.14174603\n",
            "Iteration 338, loss = 0.14113808\n",
            "Iteration 339, loss = 0.14066599\n",
            "Iteration 340, loss = 0.14035522\n",
            "Iteration 341, loss = 0.14038740\n",
            "Iteration 342, loss = 0.14124209\n",
            "Iteration 343, loss = 0.13906802\n",
            "Iteration 344, loss = 0.13991528\n",
            "Iteration 345, loss = 0.13997526\n",
            "Iteration 346, loss = 0.13859867\n",
            "Iteration 347, loss = 0.13858391\n",
            "Iteration 348, loss = 0.14057231\n",
            "Iteration 349, loss = 0.13889441\n",
            "Iteration 350, loss = 0.13837122\n",
            "Iteration 351, loss = 0.13848034\n",
            "Iteration 352, loss = 0.13697894\n",
            "Iteration 353, loss = 0.13671320\n",
            "Iteration 354, loss = 0.13797755\n",
            "Iteration 355, loss = 0.13821730\n",
            "Iteration 356, loss = 0.13770148\n",
            "Iteration 357, loss = 0.13636415\n",
            "Iteration 358, loss = 0.13467081\n",
            "Iteration 359, loss = 0.13461557\n",
            "Iteration 360, loss = 0.13442886\n",
            "Iteration 361, loss = 0.13409258\n",
            "Iteration 362, loss = 0.13381152\n",
            "Iteration 363, loss = 0.13390862\n",
            "Iteration 364, loss = 0.13482014\n",
            "Iteration 365, loss = 0.13320967\n",
            "Iteration 366, loss = 0.13265781\n",
            "Iteration 367, loss = 0.13356044\n",
            "Iteration 368, loss = 0.13164958\n",
            "Iteration 369, loss = 0.13207128\n",
            "Iteration 370, loss = 0.13125554\n",
            "Iteration 371, loss = 0.13084683\n",
            "Iteration 372, loss = 0.13198394\n",
            "Iteration 373, loss = 0.13044744\n",
            "Iteration 374, loss = 0.13044973\n",
            "Iteration 375, loss = 0.13060197\n",
            "Iteration 376, loss = 0.13001575\n",
            "Iteration 377, loss = 0.12898048\n",
            "Iteration 378, loss = 0.13040728\n",
            "Iteration 379, loss = 0.12934678\n",
            "Iteration 380, loss = 0.12853131\n",
            "Iteration 381, loss = 0.12832116\n",
            "Iteration 382, loss = 0.12860291\n",
            "Iteration 383, loss = 0.12777901\n",
            "Iteration 384, loss = 0.12765151\n",
            "Iteration 385, loss = 0.12784982\n",
            "Iteration 386, loss = 0.12775965\n",
            "Iteration 387, loss = 0.12667749\n",
            "Iteration 388, loss = 0.12622454\n",
            "Iteration 389, loss = 0.12662705\n",
            "Iteration 390, loss = 0.12509672\n",
            "Iteration 391, loss = 0.12544049\n",
            "Iteration 392, loss = 0.12624350\n",
            "Iteration 393, loss = 0.12473717\n",
            "Iteration 394, loss = 0.12410334\n",
            "Iteration 395, loss = 0.12466342\n",
            "Iteration 396, loss = 0.12413023\n",
            "Iteration 397, loss = 0.12354867\n",
            "Iteration 398, loss = 0.12354372\n",
            "Iteration 399, loss = 0.12283719\n",
            "Iteration 400, loss = 0.12256789\n",
            "Iteration 401, loss = 0.12225868\n",
            "Iteration 402, loss = 0.12209063\n",
            "Iteration 403, loss = 0.12177730\n",
            "Iteration 404, loss = 0.12143020\n",
            "Iteration 405, loss = 0.12211252\n",
            "Iteration 406, loss = 0.12150848\n",
            "Iteration 407, loss = 0.12153142\n",
            "Iteration 408, loss = 0.12096397\n",
            "Iteration 409, loss = 0.12006937\n",
            "Iteration 410, loss = 0.12112998\n",
            "Iteration 411, loss = 0.12035179\n",
            "Iteration 412, loss = 0.12027193\n",
            "Iteration 413, loss = 0.11949543\n",
            "Iteration 414, loss = 0.11861770\n",
            "Iteration 415, loss = 0.11840722\n",
            "Iteration 416, loss = 0.11767321\n",
            "Iteration 417, loss = 0.11818419\n",
            "Iteration 418, loss = 0.11776465\n",
            "Iteration 419, loss = 0.11748458\n",
            "Iteration 420, loss = 0.11742307\n",
            "Iteration 421, loss = 0.11761171\n",
            "Iteration 422, loss = 0.11788182\n",
            "Iteration 423, loss = 0.11631865\n",
            "Iteration 424, loss = 0.11611139\n",
            "Iteration 425, loss = 0.11568595\n",
            "Iteration 426, loss = 0.11552367\n",
            "Iteration 427, loss = 0.11561771\n",
            "Iteration 428, loss = 0.11510922\n",
            "Iteration 429, loss = 0.11461077\n",
            "Iteration 430, loss = 0.11445712\n",
            "Iteration 431, loss = 0.11481787\n",
            "Iteration 432, loss = 0.11449597\n",
            "Iteration 433, loss = 0.11412122\n",
            "Iteration 434, loss = 0.11431649\n",
            "Iteration 435, loss = 0.11350205\n",
            "Iteration 436, loss = 0.11314327\n",
            "Iteration 437, loss = 0.11316868\n",
            "Iteration 438, loss = 0.11245979\n",
            "Iteration 439, loss = 0.11260584\n",
            "Iteration 440, loss = 0.11286773\n",
            "Iteration 441, loss = 0.11271534\n",
            "Iteration 442, loss = 0.11337365\n",
            "Iteration 443, loss = 0.11338823\n",
            "Iteration 444, loss = 0.11149459\n",
            "Iteration 445, loss = 0.11209188\n",
            "Iteration 446, loss = 0.11221475\n",
            "Iteration 447, loss = 0.11122350\n",
            "Iteration 448, loss = 0.11094634\n",
            "Iteration 449, loss = 0.11015609\n",
            "Iteration 450, loss = 0.10949915\n",
            "Iteration 451, loss = 0.10968793\n",
            "Iteration 452, loss = 0.11001307\n",
            "Iteration 453, loss = 0.10939309\n",
            "Iteration 454, loss = 0.10934258\n",
            "Iteration 455, loss = 0.10906936\n",
            "Iteration 456, loss = 0.10857444\n",
            "Iteration 457, loss = 0.10906502\n",
            "Iteration 458, loss = 0.10993362\n",
            "Iteration 459, loss = 0.10785012\n",
            "Iteration 460, loss = 0.10779586\n",
            "Iteration 461, loss = 0.10757157\n",
            "Iteration 462, loss = 0.10783792\n",
            "Iteration 463, loss = 0.10710802\n",
            "Iteration 464, loss = 0.10663213\n",
            "Iteration 465, loss = 0.10670676\n",
            "Iteration 466, loss = 0.10623012\n",
            "Iteration 467, loss = 0.10767192\n",
            "Iteration 468, loss = 0.10761996\n",
            "Iteration 469, loss = 0.10598076\n",
            "Iteration 470, loss = 0.10642143\n",
            "Iteration 471, loss = 0.10506168\n",
            "Iteration 472, loss = 0.10503914\n",
            "Iteration 473, loss = 0.10488373\n",
            "Iteration 474, loss = 0.10523964\n",
            "Iteration 475, loss = 0.10392693\n",
            "Iteration 476, loss = 0.10367576\n",
            "Iteration 477, loss = 0.10364955\n",
            "Iteration 478, loss = 0.10339382\n",
            "Iteration 479, loss = 0.10302288\n",
            "Iteration 480, loss = 0.10397913\n",
            "Iteration 481, loss = 0.10326648\n",
            "Iteration 482, loss = 0.10328816\n",
            "Iteration 483, loss = 0.10234234\n",
            "Iteration 484, loss = 0.10245051\n",
            "Iteration 485, loss = 0.10356287\n",
            "Iteration 486, loss = 0.10294887\n",
            "Iteration 487, loss = 0.10185896\n",
            "Iteration 488, loss = 0.10161714\n",
            "Iteration 489, loss = 0.10236133\n",
            "Iteration 490, loss = 0.10212301\n",
            "Iteration 491, loss = 0.10083851\n",
            "Iteration 492, loss = 0.10133300\n",
            "Iteration 493, loss = 0.10109861\n",
            "Iteration 494, loss = 0.10033398\n",
            "Iteration 495, loss = 0.09985493\n",
            "Iteration 496, loss = 0.09943931\n",
            "Iteration 497, loss = 0.09950158\n",
            "Iteration 498, loss = 0.10003141\n",
            "Iteration 499, loss = 0.10064106\n",
            "Iteration 500, loss = 0.09877357\n"
          ]
        },
        {
          "output_type": "stream",
          "name": "stderr",
          "text": [
            "/usr/local/lib/python3.9/dist-packages/sklearn/neural_network/_multilayer_perceptron.py:686: ConvergenceWarning: Stochastic Optimizer: Maximum iterations (500) reached and the optimization hasn't converged yet.\n",
            "  warnings.warn(\n"
          ]
        },
        {
          "output_type": "stream",
          "name": "stdout",
          "text": [
            "MLP Classifier Accuracy: 0.7860262008733624\n"
          ]
        }
      ]
    },
    {
      "cell_type": "markdown",
      "source": [
        "**Confusion Matrix**"
      ],
      "metadata": {
        "id": "-jMQVntpdwAF"
      }
    },
    {
      "cell_type": "code",
      "source": [
        "from sklearn.metrics import confusion_matrix\n",
        "\n",
        "# predict the labels of the test set using the trained SVM classifier\n",
        "test_pred = mlp_classifier.predict(test_images_reshaped)\n",
        "# calculate the confusion matrix\n",
        "conf_mat = confusion_matrix(test_labels, test_pred)\n",
        "print('Confusion Matrix:\\n', conf_mat)"
      ],
      "metadata": {
        "colab": {
          "base_uri": "https://localhost:8080/"
        },
        "id": "c6GITVYjt8Ar",
        "outputId": "9aa408b4-0375-4c0f-ea99-7f455de6c6c8"
      },
      "execution_count": 21,
      "outputs": [
        {
          "output_type": "stream",
          "name": "stdout",
          "text": [
            "Confusion Matrix:\n",
            " [[ 13  37   1]\n",
            " [ 35 347   6]\n",
            " [  7  12   0]]\n"
          ]
        }
      ]
    },
    {
      "cell_type": "markdown",
      "source": [
        "**TP, TN, FP, and FN Values for each Class**"
      ],
      "metadata": {
        "id": "J4ncvs0WdsC8"
      }
    },
    {
      "cell_type": "code",
      "source": [
        "# Calculate the total number of true positives, true negatives, false positives, and false negatives for each class\n",
        "for i in range(len(conf_mat)):\n",
        "    tp = conf_mat[i,i]\n",
        "    tn = np.sum(conf_mat) - np.sum(conf_mat[i,:]) - np.sum(conf_mat[:,i]) + tp\n",
        "    fp = np.sum(conf_mat[:,i]) - tp\n",
        "    fn = np.sum(conf_mat[i,:]) - tp\n",
        "    print(\"Class {}: TP = {}, TN = {}, FP = {}, FN = {}\".format(i, tp, tn, fp, fn))"
      ],
      "metadata": {
        "colab": {
          "base_uri": "https://localhost:8080/"
        },
        "id": "n9Xg75rqYFYZ",
        "outputId": "8fada2f9-ea1c-4662-a7a9-b76a8fcabd7d"
      },
      "execution_count": 25,
      "outputs": [
        {
          "output_type": "stream",
          "name": "stdout",
          "text": [
            "Class 0: TP = 13, TN = 365, FP = 42, FN = 38\n",
            "Class 1: TP = 347, TN = 21, FP = 49, FN = 41\n",
            "Class 2: TP = 0, TN = 432, FP = 7, FN = 19\n"
          ]
        }
      ]
    },
    {
      "cell_type": "markdown",
      "source": [
        "### **SVM Classifier**"
      ],
      "metadata": {
        "id": "7W0H63RSdBFV"
      }
    },
    {
      "cell_type": "code",
      "source": [
        "# Create SVM classifier\n",
        "svm_classifier = SVC(kernel='rbf', gamma='scale')\n",
        "\n",
        "# Train SVM classifier\n",
        "svm_classifier.fit(train_images, train_labels)\n",
        "\n",
        "# Test SVM classifier\n",
        "# assume train_images is already loaded with shape (2394, 56088)\n",
        "# assume test_images is already loaded with shape (458, 35496)\n",
        "\n",
        "# calculate the total number of features\n",
        "num_features = train_images.shape[1]\n",
        "\n",
        "# reshape the test set to match the number of features in the training set\n",
        "test_images_reshaped = np.zeros((test_images.shape[0], num_features))\n",
        "test_images_reshaped[:, :test_images.shape[1]] = test_images\n",
        "\n",
        "svm_score = svm_classifier.score(test_images_reshaped, test_labels)\n",
        "print('SVM Classifier Accuracy:', svm_score)"
      ],
      "metadata": {
        "colab": {
          "base_uri": "https://localhost:8080/"
        },
        "id": "Uvc1uN22D_y7",
        "outputId": "e0978a45-d425-4e67-e02a-abae3e945e1b"
      },
      "execution_count": 22,
      "outputs": [
        {
          "output_type": "stream",
          "name": "stdout",
          "text": [
            "SVM Classifier Accuracy: 0.8471615720524017\n"
          ]
        }
      ]
    },
    {
      "cell_type": "markdown",
      "source": [
        "**Confusion Matrix**"
      ],
      "metadata": {
        "id": "h26MFh_tdQic"
      }
    },
    {
      "cell_type": "code",
      "source": [
        "from sklearn.metrics import confusion_matrix\n",
        "\n",
        "# predict the labels of the test set using the trained SVM classifier\n",
        "predicted_labels = svm_classifier.predict(test_images_reshaped)\n",
        "\n",
        "# calculate the confusion matrix\n",
        "conf_matrix = confusion_matrix(test_labels, predicted_labels)\n",
        "\n",
        "print('Confusion Matrix:')\n",
        "print(conf_matrix)\n"
      ],
      "metadata": {
        "colab": {
          "base_uri": "https://localhost:8080/"
        },
        "id": "S7pXQBayqay2",
        "outputId": "d66df623-2208-4a7e-8a36-d7613c371486"
      },
      "execution_count": 23,
      "outputs": [
        {
          "output_type": "stream",
          "name": "stdout",
          "text": [
            "Confusion Matrix:\n",
            "[[  0  51   0]\n",
            " [  0 388   0]\n",
            " [  0  19   0]]\n"
          ]
        }
      ]
    },
    {
      "cell_type": "markdown",
      "source": [
        "**TP, TN, FP, and FN Values for each Class**"
      ],
      "metadata": {
        "id": "r2EV6ddBdYx_"
      }
    },
    {
      "cell_type": "code",
      "source": [
        "# Calculate the total number of true positives, true negatives, false positives, and false negatives for each class\n",
        "for i in range(len(conf_matrix)):\n",
        "    tp = conf_matrix[i,i]\n",
        "    tn = np.sum(conf_matrix) - np.sum(conf_matrix[i,:]) - np.sum(conf_matrix[:,i]) + tp\n",
        "    fp = np.sum(conf_matrix[:,i]) - tp\n",
        "    fn = np.sum(conf_matrix [i,:]) - tp\n",
        "    print(\"Class {}: TP = {}, TN = {}, FP = {}, FN = {}\".format(i, tp, tn, fp, fn))"
      ],
      "metadata": {
        "colab": {
          "base_uri": "https://localhost:8080/"
        },
        "id": "8-RN88zwYWGI",
        "outputId": "aa6351a4-8018-423b-9ecd-401207ee3800"
      },
      "execution_count": 24,
      "outputs": [
        {
          "output_type": "stream",
          "name": "stdout",
          "text": [
            "Class 0: TP = 0, TN = 407, FP = 0, FN = 51\n",
            "Class 1: TP = 388, TN = 0, FP = 70, FN = 0\n",
            "Class 2: TP = 0, TN = 439, FP = 0, FN = 19\n"
          ]
        }
      ]
    },
    {
      "cell_type": "markdown",
      "source": [
        "### **Comparing both Algorithms Acuracy**"
      ],
      "metadata": {
        "id": "h33Z-IK7dHel"
      }
    },
    {
      "cell_type": "code",
      "source": [
        "import plotly.graph_objects as go\n",
        "metrics=['MLP Classifier', 'SVM']\n",
        "score = [mlp_score.round(2), svm_score.round(2)]\n",
        "\n",
        "fig = go.Figure([go.Bar(x=metrics, y=score, text=score, textposition='inside', width=0.3)])\n",
        "fig.update_layout(title='Accuracy Score Comparison between MLP and SVM Classifier', xaxis_title='Metrics', yaxis_title='Score')\n",
        "fig.show()"
      ],
      "metadata": {
        "colab": {
          "base_uri": "https://localhost:8080/",
          "height": 542
        },
        "id": "TM0dCTQpEzEo",
        "outputId": "ec2a524b-5427-42cd-be71-6e17bdbc913d"
      },
      "execution_count": 26,
      "outputs": [
        {
          "output_type": "display_data",
          "data": {
            "text/html": [
              "<html>\n",
              "<head><meta charset=\"utf-8\" /></head>\n",
              "<body>\n",
              "    <div>            <script src=\"https://cdnjs.cloudflare.com/ajax/libs/mathjax/2.7.5/MathJax.js?config=TeX-AMS-MML_SVG\"></script><script type=\"text/javascript\">if (window.MathJax && window.MathJax.Hub && window.MathJax.Hub.Config) {window.MathJax.Hub.Config({SVG: {font: \"STIX-Web\"}});}</script>                <script type=\"text/javascript\">window.PlotlyConfig = {MathJaxConfig: 'local'};</script>\n",
              "        <script src=\"https://cdn.plot.ly/plotly-2.18.2.min.js\"></script>                <div id=\"d9061277-ee6a-430d-8477-654945f881dc\" class=\"plotly-graph-div\" style=\"height:525px; width:100%;\"></div>            <script type=\"text/javascript\">                                    window.PLOTLYENV=window.PLOTLYENV || {};                                    if (document.getElementById(\"d9061277-ee6a-430d-8477-654945f881dc\")) {                    Plotly.newPlot(                        \"d9061277-ee6a-430d-8477-654945f881dc\",                        [{\"text\":[\"0.79\",\"0.85\"],\"textposition\":\"inside\",\"width\":0.3,\"x\":[\"MLP Classifier\",\"SVM\"],\"y\":[0.79,0.85],\"type\":\"bar\"}],                        {\"template\":{\"data\":{\"histogram2dcontour\":[{\"type\":\"histogram2dcontour\",\"colorbar\":{\"outlinewidth\":0,\"ticks\":\"\"},\"colorscale\":[[0.0,\"#0d0887\"],[0.1111111111111111,\"#46039f\"],[0.2222222222222222,\"#7201a8\"],[0.3333333333333333,\"#9c179e\"],[0.4444444444444444,\"#bd3786\"],[0.5555555555555556,\"#d8576b\"],[0.6666666666666666,\"#ed7953\"],[0.7777777777777778,\"#fb9f3a\"],[0.8888888888888888,\"#fdca26\"],[1.0,\"#f0f921\"]]}],\"choropleth\":[{\"type\":\"choropleth\",\"colorbar\":{\"outlinewidth\":0,\"ticks\":\"\"}}],\"histogram2d\":[{\"type\":\"histogram2d\",\"colorbar\":{\"outlinewidth\":0,\"ticks\":\"\"},\"colorscale\":[[0.0,\"#0d0887\"],[0.1111111111111111,\"#46039f\"],[0.2222222222222222,\"#7201a8\"],[0.3333333333333333,\"#9c179e\"],[0.4444444444444444,\"#bd3786\"],[0.5555555555555556,\"#d8576b\"],[0.6666666666666666,\"#ed7953\"],[0.7777777777777778,\"#fb9f3a\"],[0.8888888888888888,\"#fdca26\"],[1.0,\"#f0f921\"]]}],\"heatmap\":[{\"type\":\"heatmap\",\"colorbar\":{\"outlinewidth\":0,\"ticks\":\"\"},\"colorscale\":[[0.0,\"#0d0887\"],[0.1111111111111111,\"#46039f\"],[0.2222222222222222,\"#7201a8\"],[0.3333333333333333,\"#9c179e\"],[0.4444444444444444,\"#bd3786\"],[0.5555555555555556,\"#d8576b\"],[0.6666666666666666,\"#ed7953\"],[0.7777777777777778,\"#fb9f3a\"],[0.8888888888888888,\"#fdca26\"],[1.0,\"#f0f921\"]]}],\"heatmapgl\":[{\"type\":\"heatmapgl\",\"colorbar\":{\"outlinewidth\":0,\"ticks\":\"\"},\"colorscale\":[[0.0,\"#0d0887\"],[0.1111111111111111,\"#46039f\"],[0.2222222222222222,\"#7201a8\"],[0.3333333333333333,\"#9c179e\"],[0.4444444444444444,\"#bd3786\"],[0.5555555555555556,\"#d8576b\"],[0.6666666666666666,\"#ed7953\"],[0.7777777777777778,\"#fb9f3a\"],[0.8888888888888888,\"#fdca26\"],[1.0,\"#f0f921\"]]}],\"contourcarpet\":[{\"type\":\"contourcarpet\",\"colorbar\":{\"outlinewidth\":0,\"ticks\":\"\"}}],\"contour\":[{\"type\":\"contour\",\"colorbar\":{\"outlinewidth\":0,\"ticks\":\"\"},\"colorscale\":[[0.0,\"#0d0887\"],[0.1111111111111111,\"#46039f\"],[0.2222222222222222,\"#7201a8\"],[0.3333333333333333,\"#9c179e\"],[0.4444444444444444,\"#bd3786\"],[0.5555555555555556,\"#d8576b\"],[0.6666666666666666,\"#ed7953\"],[0.7777777777777778,\"#fb9f3a\"],[0.8888888888888888,\"#fdca26\"],[1.0,\"#f0f921\"]]}],\"surface\":[{\"type\":\"surface\",\"colorbar\":{\"outlinewidth\":0,\"ticks\":\"\"},\"colorscale\":[[0.0,\"#0d0887\"],[0.1111111111111111,\"#46039f\"],[0.2222222222222222,\"#7201a8\"],[0.3333333333333333,\"#9c179e\"],[0.4444444444444444,\"#bd3786\"],[0.5555555555555556,\"#d8576b\"],[0.6666666666666666,\"#ed7953\"],[0.7777777777777778,\"#fb9f3a\"],[0.8888888888888888,\"#fdca26\"],[1.0,\"#f0f921\"]]}],\"mesh3d\":[{\"type\":\"mesh3d\",\"colorbar\":{\"outlinewidth\":0,\"ticks\":\"\"}}],\"scatter\":[{\"fillpattern\":{\"fillmode\":\"overlay\",\"size\":10,\"solidity\":0.2},\"type\":\"scatter\"}],\"parcoords\":[{\"type\":\"parcoords\",\"line\":{\"colorbar\":{\"outlinewidth\":0,\"ticks\":\"\"}}}],\"scatterpolargl\":[{\"type\":\"scatterpolargl\",\"marker\":{\"colorbar\":{\"outlinewidth\":0,\"ticks\":\"\"}}}],\"bar\":[{\"error_x\":{\"color\":\"#2a3f5f\"},\"error_y\":{\"color\":\"#2a3f5f\"},\"marker\":{\"line\":{\"color\":\"#E5ECF6\",\"width\":0.5},\"pattern\":{\"fillmode\":\"overlay\",\"size\":10,\"solidity\":0.2}},\"type\":\"bar\"}],\"scattergeo\":[{\"type\":\"scattergeo\",\"marker\":{\"colorbar\":{\"outlinewidth\":0,\"ticks\":\"\"}}}],\"scatterpolar\":[{\"type\":\"scatterpolar\",\"marker\":{\"colorbar\":{\"outlinewidth\":0,\"ticks\":\"\"}}}],\"histogram\":[{\"marker\":{\"pattern\":{\"fillmode\":\"overlay\",\"size\":10,\"solidity\":0.2}},\"type\":\"histogram\"}],\"scattergl\":[{\"type\":\"scattergl\",\"marker\":{\"colorbar\":{\"outlinewidth\":0,\"ticks\":\"\"}}}],\"scatter3d\":[{\"type\":\"scatter3d\",\"line\":{\"colorbar\":{\"outlinewidth\":0,\"ticks\":\"\"}},\"marker\":{\"colorbar\":{\"outlinewidth\":0,\"ticks\":\"\"}}}],\"scattermapbox\":[{\"type\":\"scattermapbox\",\"marker\":{\"colorbar\":{\"outlinewidth\":0,\"ticks\":\"\"}}}],\"scatterternary\":[{\"type\":\"scatterternary\",\"marker\":{\"colorbar\":{\"outlinewidth\":0,\"ticks\":\"\"}}}],\"scattercarpet\":[{\"type\":\"scattercarpet\",\"marker\":{\"colorbar\":{\"outlinewidth\":0,\"ticks\":\"\"}}}],\"carpet\":[{\"aaxis\":{\"endlinecolor\":\"#2a3f5f\",\"gridcolor\":\"white\",\"linecolor\":\"white\",\"minorgridcolor\":\"white\",\"startlinecolor\":\"#2a3f5f\"},\"baxis\":{\"endlinecolor\":\"#2a3f5f\",\"gridcolor\":\"white\",\"linecolor\":\"white\",\"minorgridcolor\":\"white\",\"startlinecolor\":\"#2a3f5f\"},\"type\":\"carpet\"}],\"table\":[{\"cells\":{\"fill\":{\"color\":\"#EBF0F8\"},\"line\":{\"color\":\"white\"}},\"header\":{\"fill\":{\"color\":\"#C8D4E3\"},\"line\":{\"color\":\"white\"}},\"type\":\"table\"}],\"barpolar\":[{\"marker\":{\"line\":{\"color\":\"#E5ECF6\",\"width\":0.5},\"pattern\":{\"fillmode\":\"overlay\",\"size\":10,\"solidity\":0.2}},\"type\":\"barpolar\"}],\"pie\":[{\"automargin\":true,\"type\":\"pie\"}]},\"layout\":{\"autotypenumbers\":\"strict\",\"colorway\":[\"#636efa\",\"#EF553B\",\"#00cc96\",\"#ab63fa\",\"#FFA15A\",\"#19d3f3\",\"#FF6692\",\"#B6E880\",\"#FF97FF\",\"#FECB52\"],\"font\":{\"color\":\"#2a3f5f\"},\"hovermode\":\"closest\",\"hoverlabel\":{\"align\":\"left\"},\"paper_bgcolor\":\"white\",\"plot_bgcolor\":\"#E5ECF6\",\"polar\":{\"bgcolor\":\"#E5ECF6\",\"angularaxis\":{\"gridcolor\":\"white\",\"linecolor\":\"white\",\"ticks\":\"\"},\"radialaxis\":{\"gridcolor\":\"white\",\"linecolor\":\"white\",\"ticks\":\"\"}},\"ternary\":{\"bgcolor\":\"#E5ECF6\",\"aaxis\":{\"gridcolor\":\"white\",\"linecolor\":\"white\",\"ticks\":\"\"},\"baxis\":{\"gridcolor\":\"white\",\"linecolor\":\"white\",\"ticks\":\"\"},\"caxis\":{\"gridcolor\":\"white\",\"linecolor\":\"white\",\"ticks\":\"\"}},\"coloraxis\":{\"colorbar\":{\"outlinewidth\":0,\"ticks\":\"\"}},\"colorscale\":{\"sequential\":[[0.0,\"#0d0887\"],[0.1111111111111111,\"#46039f\"],[0.2222222222222222,\"#7201a8\"],[0.3333333333333333,\"#9c179e\"],[0.4444444444444444,\"#bd3786\"],[0.5555555555555556,\"#d8576b\"],[0.6666666666666666,\"#ed7953\"],[0.7777777777777778,\"#fb9f3a\"],[0.8888888888888888,\"#fdca26\"],[1.0,\"#f0f921\"]],\"sequentialminus\":[[0.0,\"#0d0887\"],[0.1111111111111111,\"#46039f\"],[0.2222222222222222,\"#7201a8\"],[0.3333333333333333,\"#9c179e\"],[0.4444444444444444,\"#bd3786\"],[0.5555555555555556,\"#d8576b\"],[0.6666666666666666,\"#ed7953\"],[0.7777777777777778,\"#fb9f3a\"],[0.8888888888888888,\"#fdca26\"],[1.0,\"#f0f921\"]],\"diverging\":[[0,\"#8e0152\"],[0.1,\"#c51b7d\"],[0.2,\"#de77ae\"],[0.3,\"#f1b6da\"],[0.4,\"#fde0ef\"],[0.5,\"#f7f7f7\"],[0.6,\"#e6f5d0\"],[0.7,\"#b8e186\"],[0.8,\"#7fbc41\"],[0.9,\"#4d9221\"],[1,\"#276419\"]]},\"xaxis\":{\"gridcolor\":\"white\",\"linecolor\":\"white\",\"ticks\":\"\",\"title\":{\"standoff\":15},\"zerolinecolor\":\"white\",\"automargin\":true,\"zerolinewidth\":2},\"yaxis\":{\"gridcolor\":\"white\",\"linecolor\":\"white\",\"ticks\":\"\",\"title\":{\"standoff\":15},\"zerolinecolor\":\"white\",\"automargin\":true,\"zerolinewidth\":2},\"scene\":{\"xaxis\":{\"backgroundcolor\":\"#E5ECF6\",\"gridcolor\":\"white\",\"linecolor\":\"white\",\"showbackground\":true,\"ticks\":\"\",\"zerolinecolor\":\"white\",\"gridwidth\":2},\"yaxis\":{\"backgroundcolor\":\"#E5ECF6\",\"gridcolor\":\"white\",\"linecolor\":\"white\",\"showbackground\":true,\"ticks\":\"\",\"zerolinecolor\":\"white\",\"gridwidth\":2},\"zaxis\":{\"backgroundcolor\":\"#E5ECF6\",\"gridcolor\":\"white\",\"linecolor\":\"white\",\"showbackground\":true,\"ticks\":\"\",\"zerolinecolor\":\"white\",\"gridwidth\":2}},\"shapedefaults\":{\"line\":{\"color\":\"#2a3f5f\"}},\"annotationdefaults\":{\"arrowcolor\":\"#2a3f5f\",\"arrowhead\":0,\"arrowwidth\":1},\"geo\":{\"bgcolor\":\"white\",\"landcolor\":\"#E5ECF6\",\"subunitcolor\":\"white\",\"showland\":true,\"showlakes\":true,\"lakecolor\":\"white\"},\"title\":{\"x\":0.05},\"mapbox\":{\"style\":\"light\"}}},\"title\":{\"text\":\"Accuracy Score Comparison between MLP and SVM Classifier\"},\"xaxis\":{\"title\":{\"text\":\"Metrics\"}},\"yaxis\":{\"title\":{\"text\":\"Score\"}}},                        {\"responsive\": true}                    ).then(function(){\n",
              "                            \n",
              "var gd = document.getElementById('d9061277-ee6a-430d-8477-654945f881dc');\n",
              "var x = new MutationObserver(function (mutations, observer) {{\n",
              "        var display = window.getComputedStyle(gd).display;\n",
              "        if (!display || display === 'none') {{\n",
              "            console.log([gd, 'removed!']);\n",
              "            Plotly.purge(gd);\n",
              "            observer.disconnect();\n",
              "        }}\n",
              "}});\n",
              "\n",
              "// Listen for the removal of the full notebook cells\n",
              "var notebookContainer = gd.closest('#notebook-container');\n",
              "if (notebookContainer) {{\n",
              "    x.observe(notebookContainer, {childList: true});\n",
              "}}\n",
              "\n",
              "// Listen for the clearing of the current output cell\n",
              "var outputEl = gd.closest('.output');\n",
              "if (outputEl) {{\n",
              "    x.observe(outputEl, {childList: true});\n",
              "}}\n",
              "\n",
              "                        })                };                            </script>        </div>\n",
              "</body>\n",
              "</html>"
            ]
          },
          "metadata": {}
        }
      ]
    },
    {
      "cell_type": "code",
      "source": [],
      "metadata": {
        "id": "_SJbJpUiW28J"
      },
      "execution_count": null,
      "outputs": []
    }
  ]
}